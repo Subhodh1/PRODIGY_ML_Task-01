{
 "cells": [
  {
   "cell_type": "code",
   "execution_count": 1,
   "id": "2095c27e",
   "metadata": {
    "_cell_guid": "b1076dfc-b9ad-4769-8c92-a6c4dae69d19",
    "_uuid": "8f2839f25d086af736a60e9eeb907d3b93b6e0e5",
    "execution": {
     "iopub.execute_input": "2024-06-14T08:20:14.627840Z",
     "iopub.status.busy": "2024-06-14T08:20:14.626947Z",
     "iopub.status.idle": "2024-06-14T08:20:15.360451Z",
     "shell.execute_reply": "2024-06-14T08:20:15.359412Z"
    },
    "papermill": {
     "duration": 0.755237,
     "end_time": "2024-06-14T08:20:15.362908",
     "exception": false,
     "start_time": "2024-06-14T08:20:14.607671",
     "status": "completed"
    },
    "tags": []
   },
   "outputs": [],
   "source": [
    "# This Python 3 environment comes with many helpful analytics libraries installed\n",
    "# It is defined by the kaggle/python Docker image: https://github.com/kaggle/docker-python\n",
    "# For example, here's several helpful packages to load\n",
    "\n",
    "import numpy as np # linear algebra\n",
    "import pandas as pd # data processing, CSV file I/O (e.g. pd.read_csv)\n",
    "\n",
    "# Input data files are available in the read-only \"../input/\" directory\n",
    "# For example, running this (by clicking run or pressing Shift+Enter) will list all files under the input directory\n",
    "\n",
    "import os\n",
    "for dirname, _, filenames in os.walk('/kaggle/input'):\n",
    "    for filename in filenames:\n",
    "        print(os.path.join(dirname, filename))\n",
    "\n",
    "# You can write up to 20GB to the current directory (/kaggle/working/) that gets preserved as output when you create a version using \"Save & Run All\" \n",
    "# You can also write temporary files to /kaggle/temp/, but they won't be saved outside of the current session"
   ]
  },
  {
   "cell_type": "code",
   "execution_count": 11,
   "id": "7ce9d337",
   "metadata": {
    "execution": {
     "iopub.execute_input": "2024-06-14T08:20:15.401952Z",
     "iopub.status.busy": "2024-06-14T08:20:15.401485Z",
     "iopub.status.idle": "2024-06-14T08:20:28.145285Z",
     "shell.execute_reply": "2024-06-14T08:20:28.144294Z"
    },
    "papermill": {
     "duration": 12.765949,
     "end_time": "2024-06-14T08:20:28.148195",
     "exception": false,
     "start_time": "2024-06-14T08:20:15.382246",
     "status": "completed"
    },
    "tags": []
   },
   "outputs": [],
   "source": [
    "import pandas as pd\n",
    "import numpy as np\n",
    "\n",
    "import tensorflow as tf\n"
   ]
  },
  {
   "cell_type": "code",
   "execution_count": 12,
   "id": "2cda0fe7",
   "metadata": {
    "execution": {
     "iopub.execute_input": "2024-06-14T08:20:28.185181Z",
     "iopub.status.busy": "2024-06-14T08:20:28.184555Z",
     "iopub.status.idle": "2024-06-14T08:20:28.258348Z",
     "shell.execute_reply": "2024-06-14T08:20:28.257350Z"
    },
    "papermill": {
     "duration": 0.094936,
     "end_time": "2024-06-14T08:20:28.260701",
     "exception": false,
     "start_time": "2024-06-14T08:20:28.165765",
     "status": "completed"
    },
    "tags": []
   },
   "outputs": [],
   "source": [
    "sample_submission=pd.read_csv(r\"C:\\Users\\Subhodh Bijjur\\OneDrive\\Desktop\\Prodigy\\sample_submission.csv\")\n",
    "train=pd.read_csv(r\"C:\\Users\\Subhodh Bijjur\\OneDrive\\Desktop\\Prodigy\\train.csv\")\n",
    "test=pd.read_csv(r\"C:\\Users\\Subhodh Bijjur\\OneDrive\\Desktop\\Prodigy\\test.csv\")"
   ]
  },
  {
   "cell_type": "code",
   "execution_count": 13,
   "id": "cc4d0532",
   "metadata": {
    "execution": {
     "iopub.execute_input": "2024-06-14T08:20:28.297361Z",
     "iopub.status.busy": "2024-06-14T08:20:28.296955Z",
     "iopub.status.idle": "2024-06-14T08:20:28.305678Z",
     "shell.execute_reply": "2024-06-14T08:20:28.304700Z"
    },
    "papermill": {
     "duration": 0.029302,
     "end_time": "2024-06-14T08:20:28.307601",
     "exception": false,
     "start_time": "2024-06-14T08:20:28.278299",
     "status": "completed"
    },
    "tags": []
   },
   "outputs": [
    {
     "data": {
      "text/plain": [
       "Index(['Id', 'MSSubClass', 'MSZoning', 'LotFrontage', 'LotArea', 'Street',\n",
       "       'Alley', 'LotShape', 'LandContour', 'Utilities', 'LotConfig',\n",
       "       'LandSlope', 'Neighborhood', 'Condition1', 'Condition2', 'BldgType',\n",
       "       'HouseStyle', 'OverallQual', 'OverallCond', 'YearBuilt', 'YearRemodAdd',\n",
       "       'RoofStyle', 'RoofMatl', 'Exterior1st', 'Exterior2nd', 'MasVnrType',\n",
       "       'MasVnrArea', 'ExterQual', 'ExterCond', 'Foundation', 'BsmtQual',\n",
       "       'BsmtCond', 'BsmtExposure', 'BsmtFinType1', 'BsmtFinSF1',\n",
       "       'BsmtFinType2', 'BsmtFinSF2', 'BsmtUnfSF', 'TotalBsmtSF', 'Heating',\n",
       "       'HeatingQC', 'CentralAir', 'Electrical', '1stFlrSF', '2ndFlrSF',\n",
       "       'LowQualFinSF', 'GrLivArea', 'BsmtFullBath', 'BsmtHalfBath', 'FullBath',\n",
       "       'HalfBath', 'BedroomAbvGr', 'KitchenAbvGr', 'KitchenQual',\n",
       "       'TotRmsAbvGrd', 'Functional', 'Fireplaces', 'FireplaceQu', 'GarageType',\n",
       "       'GarageYrBlt', 'GarageFinish', 'GarageCars', 'GarageArea', 'GarageQual',\n",
       "       'GarageCond', 'PavedDrive', 'WoodDeckSF', 'OpenPorchSF',\n",
       "       'EnclosedPorch', '3SsnPorch', 'ScreenPorch', 'PoolArea', 'PoolQC',\n",
       "       'Fence', 'MiscFeature', 'MiscVal', 'MoSold', 'YrSold', 'SaleType',\n",
       "       'SaleCondition', 'SalePrice'],\n",
       "      dtype='object')"
      ]
     },
     "execution_count": 13,
     "metadata": {},
     "output_type": "execute_result"
    }
   ],
   "source": [
    "train.columns"
   ]
  },
  {
   "cell_type": "code",
   "execution_count": 14,
   "id": "792d9d10",
   "metadata": {
    "execution": {
     "iopub.execute_input": "2024-06-14T08:20:28.344329Z",
     "iopub.status.busy": "2024-06-14T08:20:28.343924Z",
     "iopub.status.idle": "2024-06-14T08:20:28.356451Z",
     "shell.execute_reply": "2024-06-14T08:20:28.355259Z"
    },
    "papermill": {
     "duration": 0.03361,
     "end_time": "2024-06-14T08:20:28.358800",
     "exception": false,
     "start_time": "2024-06-14T08:20:28.325190",
     "status": "completed"
    },
    "tags": []
   },
   "outputs": [
    {
     "data": {
      "text/plain": [
       "0       SBrkr\n",
       "1       SBrkr\n",
       "2       SBrkr\n",
       "3       SBrkr\n",
       "4       SBrkr\n",
       "        ...  \n",
       "1455    SBrkr\n",
       "1456    SBrkr\n",
       "1457    SBrkr\n",
       "1458    FuseA\n",
       "1459    SBrkr\n",
       "Name: Electrical, Length: 1460, dtype: object"
      ]
     },
     "execution_count": 14,
     "metadata": {},
     "output_type": "execute_result"
    }
   ],
   "source": [
    "train['Electrical']"
   ]
  },
  {
   "cell_type": "code",
   "execution_count": 15,
   "id": "bda0831e",
   "metadata": {
    "execution": {
     "iopub.execute_input": "2024-06-14T08:20:28.396970Z",
     "iopub.status.busy": "2024-06-14T08:20:28.396054Z",
     "iopub.status.idle": "2024-06-14T08:20:28.406998Z",
     "shell.execute_reply": "2024-06-14T08:20:28.405947Z"
    },
    "papermill": {
     "duration": 0.032648,
     "end_time": "2024-06-14T08:20:28.409393",
     "exception": false,
     "start_time": "2024-06-14T08:20:28.376745",
     "status": "completed"
    },
    "tags": []
   },
   "outputs": [],
   "source": [
    "y=train['SalePrice']\n",
    "X=train.drop('SalePrice',axis=1)"
   ]
  },
  {
   "cell_type": "code",
   "execution_count": 16,
   "id": "5e5770a3",
   "metadata": {
    "execution": {
     "iopub.execute_input": "2024-06-14T08:20:28.446613Z",
     "iopub.status.busy": "2024-06-14T08:20:28.445597Z",
     "iopub.status.idle": "2024-06-14T08:20:28.451986Z",
     "shell.execute_reply": "2024-06-14T08:20:28.451107Z"
    },
    "papermill": {
     "duration": 0.027093,
     "end_time": "2024-06-14T08:20:28.454106",
     "exception": false,
     "start_time": "2024-06-14T08:20:28.427013",
     "status": "completed"
    },
    "tags": []
   },
   "outputs": [
    {
     "data": {
      "text/plain": [
       "(81, 80)"
      ]
     },
     "execution_count": 16,
     "metadata": {},
     "output_type": "execute_result"
    }
   ],
   "source": [
    "len(train.columns),len(X.columns)"
   ]
  },
  {
   "cell_type": "code",
   "execution_count": 17,
   "id": "dd47ba76",
   "metadata": {
    "execution": {
     "iopub.execute_input": "2024-06-14T08:20:28.491455Z",
     "iopub.status.busy": "2024-06-14T08:20:28.490689Z",
     "iopub.status.idle": "2024-06-14T08:20:28.497400Z",
     "shell.execute_reply": "2024-06-14T08:20:28.496500Z"
    },
    "papermill": {
     "duration": 0.027767,
     "end_time": "2024-06-14T08:20:28.499421",
     "exception": false,
     "start_time": "2024-06-14T08:20:28.471654",
     "status": "completed"
    },
    "tags": []
   },
   "outputs": [
    {
     "data": {
      "text/plain": [
       "Index(['Id', 'MSSubClass', 'MSZoning', 'LotFrontage', 'LotArea', 'Street',\n",
       "       'Alley', 'LotShape', 'LandContour', 'Utilities', 'LotConfig',\n",
       "       'LandSlope', 'Neighborhood', 'Condition1', 'Condition2', 'BldgType',\n",
       "       'HouseStyle', 'OverallQual', 'OverallCond', 'YearBuilt', 'YearRemodAdd',\n",
       "       'RoofStyle', 'RoofMatl', 'Exterior1st', 'Exterior2nd', 'MasVnrType',\n",
       "       'MasVnrArea', 'ExterQual', 'ExterCond', 'Foundation', 'BsmtQual',\n",
       "       'BsmtCond', 'BsmtExposure', 'BsmtFinType1', 'BsmtFinSF1',\n",
       "       'BsmtFinType2', 'BsmtFinSF2', 'BsmtUnfSF', 'TotalBsmtSF', 'Heating',\n",
       "       'HeatingQC', 'CentralAir', 'Electrical', '1stFlrSF', '2ndFlrSF',\n",
       "       'LowQualFinSF', 'GrLivArea', 'BsmtFullBath', 'BsmtHalfBath', 'FullBath',\n",
       "       'HalfBath', 'BedroomAbvGr', 'KitchenAbvGr', 'KitchenQual',\n",
       "       'TotRmsAbvGrd', 'Functional', 'Fireplaces', 'FireplaceQu', 'GarageType',\n",
       "       'GarageYrBlt', 'GarageFinish', 'GarageCars', 'GarageArea', 'GarageQual',\n",
       "       'GarageCond', 'PavedDrive', 'WoodDeckSF', 'OpenPorchSF',\n",
       "       'EnclosedPorch', '3SsnPorch', 'ScreenPorch', 'PoolArea', 'PoolQC',\n",
       "       'Fence', 'MiscFeature', 'MiscVal', 'MoSold', 'YrSold', 'SaleType',\n",
       "       'SaleCondition'],\n",
       "      dtype='object')"
      ]
     },
     "execution_count": 17,
     "metadata": {},
     "output_type": "execute_result"
    }
   ],
   "source": [
    "X.columns"
   ]
  },
  {
   "cell_type": "code",
   "execution_count": 18,
   "id": "71a3eccd",
   "metadata": {
    "execution": {
     "iopub.execute_input": "2024-06-14T08:20:28.537036Z",
     "iopub.status.busy": "2024-06-14T08:20:28.536361Z",
     "iopub.status.idle": "2024-06-14T08:20:28.543591Z",
     "shell.execute_reply": "2024-06-14T08:20:28.542646Z"
    },
    "papermill": {
     "duration": 0.028497,
     "end_time": "2024-06-14T08:20:28.545838",
     "exception": false,
     "start_time": "2024-06-14T08:20:28.517341",
     "status": "completed"
    },
    "tags": []
   },
   "outputs": [
    {
     "data": {
      "text/plain": [
       "0       208500\n",
       "1       181500\n",
       "2       223500\n",
       "3       140000\n",
       "4       250000\n",
       "         ...  \n",
       "1455    175000\n",
       "1456    210000\n",
       "1457    266500\n",
       "1458    142125\n",
       "1459    147500\n",
       "Name: SalePrice, Length: 1460, dtype: int64"
      ]
     },
     "execution_count": 18,
     "metadata": {},
     "output_type": "execute_result"
    }
   ],
   "source": [
    "y"
   ]
  },
  {
   "cell_type": "code",
   "execution_count": 19,
   "id": "0cc6ed78",
   "metadata": {
    "execution": {
     "iopub.execute_input": "2024-06-14T08:20:28.583324Z",
     "iopub.status.busy": "2024-06-14T08:20:28.582818Z",
     "iopub.status.idle": "2024-06-14T08:20:28.599135Z",
     "shell.execute_reply": "2024-06-14T08:20:28.598286Z"
    },
    "papermill": {
     "duration": 0.037741,
     "end_time": "2024-06-14T08:20:28.601474",
     "exception": false,
     "start_time": "2024-06-14T08:20:28.563733",
     "status": "completed"
    },
    "tags": []
   },
   "outputs": [],
   "source": [
    "X=X.dropna(axis=1)\n",
    "test=test.dropna(axis=1)"
   ]
  },
  {
   "cell_type": "code",
   "execution_count": 20,
   "id": "b4ac01d7",
   "metadata": {
    "execution": {
     "iopub.execute_input": "2024-06-14T08:20:28.692595Z",
     "iopub.status.busy": "2024-06-14T08:20:28.692223Z",
     "iopub.status.idle": "2024-06-14T08:20:28.698514Z",
     "shell.execute_reply": "2024-06-14T08:20:28.697553Z"
    },
    "papermill": {
     "duration": 0.081494,
     "end_time": "2024-06-14T08:20:28.701016",
     "exception": false,
     "start_time": "2024-06-14T08:20:28.619522",
     "status": "completed"
    },
    "tags": []
   },
   "outputs": [
    {
     "data": {
      "text/plain": [
       "(61, 47)"
      ]
     },
     "execution_count": 20,
     "metadata": {},
     "output_type": "execute_result"
    }
   ],
   "source": [
    "len(X.columns),len(test.columns)"
   ]
  },
  {
   "cell_type": "code",
   "execution_count": 21,
   "id": "809cebe2",
   "metadata": {
    "execution": {
     "iopub.execute_input": "2024-06-14T08:20:28.738816Z",
     "iopub.status.busy": "2024-06-14T08:20:28.738448Z",
     "iopub.status.idle": "2024-06-14T08:20:28.745109Z",
     "shell.execute_reply": "2024-06-14T08:20:28.744117Z"
    },
    "papermill": {
     "duration": 0.028072,
     "end_time": "2024-06-14T08:20:28.747246",
     "exception": false,
     "start_time": "2024-06-14T08:20:28.719174",
     "status": "completed"
    },
    "tags": []
   },
   "outputs": [
    {
     "data": {
      "text/plain": [
       "['BsmtFinSF1',\n",
       " 'MSZoning',\n",
       " 'BsmtFullBath',\n",
       " 'GarageArea',\n",
       " 'Exterior1st',\n",
       " 'SaleType',\n",
       " 'KitchenQual',\n",
       " 'Functional',\n",
       " 'Exterior2nd',\n",
       " 'BsmtHalfBath',\n",
       " 'BsmtFinSF2',\n",
       " 'GarageCars',\n",
       " 'TotalBsmtSF',\n",
       " 'BsmtUnfSF',\n",
       " 'Utilities']"
      ]
     },
     "execution_count": 21,
     "metadata": {},
     "output_type": "execute_result"
    }
   ],
   "source": [
    "list(set(X.columns)-set(test.columns))"
   ]
  },
  {
   "cell_type": "code",
   "execution_count": 22,
   "id": "6560410c",
   "metadata": {
    "execution": {
     "iopub.execute_input": "2024-06-14T08:20:28.785516Z",
     "iopub.status.busy": "2024-06-14T08:20:28.784580Z",
     "iopub.status.idle": "2024-06-14T08:20:28.791454Z",
     "shell.execute_reply": "2024-06-14T08:20:28.790295Z"
    },
    "papermill": {
     "duration": 0.02817,
     "end_time": "2024-06-14T08:20:28.793580",
     "exception": false,
     "start_time": "2024-06-14T08:20:28.765410",
     "status": "completed"
    },
    "tags": []
   },
   "outputs": [],
   "source": [
    "X=X.drop(['TotalBsmtSF',\n",
    " 'KitchenQual',\n",
    " 'GarageCars',\n",
    " 'Utilities',\n",
    " 'Functional',\n",
    " 'Exterior2nd',\n",
    " 'Exterior1st',\n",
    " 'BsmtFinSF1',\n",
    " 'BsmtHalfBath',\n",
    " 'BsmtFinSF2',\n",
    " 'BsmtUnfSF',\n",
    " 'SaleType',\n",
    " 'BsmtFullBath',\n",
    " 'GarageArea',\n",
    " 'MSZoning'],axis=1)"
   ]
  },
  {
   "cell_type": "code",
   "execution_count": 23,
   "id": "f26ef5ed",
   "metadata": {
    "execution": {
     "iopub.execute_input": "2024-06-14T08:20:28.831850Z",
     "iopub.status.busy": "2024-06-14T08:20:28.830966Z",
     "iopub.status.idle": "2024-06-14T08:20:28.837496Z",
     "shell.execute_reply": "2024-06-14T08:20:28.836445Z"
    },
    "papermill": {
     "duration": 0.027915,
     "end_time": "2024-06-14T08:20:28.839599",
     "exception": false,
     "start_time": "2024-06-14T08:20:28.811684",
     "status": "completed"
    },
    "tags": []
   },
   "outputs": [
    {
     "data": {
      "text/plain": [
       "(46, 47)"
      ]
     },
     "execution_count": 23,
     "metadata": {},
     "output_type": "execute_result"
    }
   ],
   "source": [
    "len(X.columns),len(test.columns)"
   ]
  },
  {
   "cell_type": "code",
   "execution_count": 24,
   "id": "da62f32e",
   "metadata": {
    "execution": {
     "iopub.execute_input": "2024-06-14T08:20:28.878903Z",
     "iopub.status.busy": "2024-06-14T08:20:28.878076Z",
     "iopub.status.idle": "2024-06-14T08:20:28.884721Z",
     "shell.execute_reply": "2024-06-14T08:20:28.883785Z"
    },
    "papermill": {
     "duration": 0.028296,
     "end_time": "2024-06-14T08:20:28.886783",
     "exception": false,
     "start_time": "2024-06-14T08:20:28.858487",
     "status": "completed"
    },
    "tags": []
   },
   "outputs": [
    {
     "data": {
      "text/plain": [
       "{'Electrical'}"
      ]
     },
     "execution_count": 24,
     "metadata": {},
     "output_type": "execute_result"
    }
   ],
   "source": [
    "set(test.columns)-set(X.columns)"
   ]
  },
  {
   "cell_type": "code",
   "execution_count": 25,
   "id": "950a827d",
   "metadata": {
    "execution": {
     "iopub.execute_input": "2024-06-14T08:20:28.925688Z",
     "iopub.status.busy": "2024-06-14T08:20:28.925333Z",
     "iopub.status.idle": "2024-06-14T08:20:28.931295Z",
     "shell.execute_reply": "2024-06-14T08:20:28.930242Z"
    },
    "papermill": {
     "duration": 0.027651,
     "end_time": "2024-06-14T08:20:28.933365",
     "exception": false,
     "start_time": "2024-06-14T08:20:28.905714",
     "status": "completed"
    },
    "tags": []
   },
   "outputs": [],
   "source": [
    "test=test.drop(['Electrical'],axis=1)"
   ]
  },
  {
   "cell_type": "code",
   "execution_count": 26,
   "id": "70e975ff",
   "metadata": {
    "execution": {
     "iopub.execute_input": "2024-06-14T08:20:28.974125Z",
     "iopub.status.busy": "2024-06-14T08:20:28.973236Z",
     "iopub.status.idle": "2024-06-14T08:20:28.979867Z",
     "shell.execute_reply": "2024-06-14T08:20:28.978972Z"
    },
    "papermill": {
     "duration": 0.028477,
     "end_time": "2024-06-14T08:20:28.982004",
     "exception": false,
     "start_time": "2024-06-14T08:20:28.953527",
     "status": "completed"
    },
    "tags": []
   },
   "outputs": [
    {
     "data": {
      "text/plain": [
       "(46, 46)"
      ]
     },
     "execution_count": 26,
     "metadata": {},
     "output_type": "execute_result"
    }
   ],
   "source": [
    "len(test.columns),len(X.columns)"
   ]
  },
  {
   "cell_type": "code",
   "execution_count": 27,
   "id": "986a0021",
   "metadata": {
    "execution": {
     "iopub.execute_input": "2024-06-14T08:20:29.020679Z",
     "iopub.status.busy": "2024-06-14T08:20:29.020302Z",
     "iopub.status.idle": "2024-06-14T08:20:29.027634Z",
     "shell.execute_reply": "2024-06-14T08:20:29.026656Z"
    },
    "papermill": {
     "duration": 0.029118,
     "end_time": "2024-06-14T08:20:29.029773",
     "exception": false,
     "start_time": "2024-06-14T08:20:29.000655",
     "status": "completed"
    },
    "tags": []
   },
   "outputs": [],
   "source": [
    "categorical_columns=[col for col in X.columns if X[col].dtype=='object']\n",
    "numerical_columns=[col for col in X.columns if X[col].dtype!='object']"
   ]
  },
  {
   "cell_type": "code",
   "execution_count": 28,
   "id": "32fc94af",
   "metadata": {
    "execution": {
     "iopub.execute_input": "2024-06-14T08:20:29.069349Z",
     "iopub.status.busy": "2024-06-14T08:20:29.068824Z",
     "iopub.status.idle": "2024-06-14T08:20:29.075454Z",
     "shell.execute_reply": "2024-06-14T08:20:29.074479Z"
    },
    "papermill": {
     "duration": 0.02851,
     "end_time": "2024-06-14T08:20:29.077508",
     "exception": false,
     "start_time": "2024-06-14T08:20:29.048998",
     "status": "completed"
    },
    "tags": []
   },
   "outputs": [
    {
     "data": {
      "text/plain": [
       "['Street',\n",
       " 'LotShape',\n",
       " 'LandContour',\n",
       " 'LotConfig',\n",
       " 'LandSlope',\n",
       " 'Neighborhood',\n",
       " 'Condition1',\n",
       " 'Condition2',\n",
       " 'BldgType',\n",
       " 'HouseStyle',\n",
       " 'RoofStyle',\n",
       " 'RoofMatl',\n",
       " 'ExterQual',\n",
       " 'ExterCond',\n",
       " 'Foundation',\n",
       " 'Heating',\n",
       " 'HeatingQC',\n",
       " 'CentralAir',\n",
       " 'PavedDrive',\n",
       " 'SaleCondition']"
      ]
     },
     "execution_count": 28,
     "metadata": {},
     "output_type": "execute_result"
    }
   ],
   "source": [
    "categorical_columns"
   ]
  },
  {
   "cell_type": "code",
   "execution_count": 29,
   "id": "a9583748",
   "metadata": {
    "execution": {
     "iopub.execute_input": "2024-06-14T08:20:29.116928Z",
     "iopub.status.busy": "2024-06-14T08:20:29.116573Z",
     "iopub.status.idle": "2024-06-14T08:20:29.123073Z",
     "shell.execute_reply": "2024-06-14T08:20:29.122105Z"
    },
    "papermill": {
     "duration": 0.028863,
     "end_time": "2024-06-14T08:20:29.125151",
     "exception": false,
     "start_time": "2024-06-14T08:20:29.096288",
     "status": "completed"
    },
    "tags": []
   },
   "outputs": [
    {
     "data": {
      "text/plain": [
       "['Id',\n",
       " 'MSSubClass',\n",
       " 'LotArea',\n",
       " 'OverallQual',\n",
       " 'OverallCond',\n",
       " 'YearBuilt',\n",
       " 'YearRemodAdd',\n",
       " '1stFlrSF',\n",
       " '2ndFlrSF',\n",
       " 'LowQualFinSF',\n",
       " 'GrLivArea',\n",
       " 'FullBath',\n",
       " 'HalfBath',\n",
       " 'BedroomAbvGr',\n",
       " 'KitchenAbvGr',\n",
       " 'TotRmsAbvGrd',\n",
       " 'Fireplaces',\n",
       " 'WoodDeckSF',\n",
       " 'OpenPorchSF',\n",
       " 'EnclosedPorch',\n",
       " '3SsnPorch',\n",
       " 'ScreenPorch',\n",
       " 'PoolArea',\n",
       " 'MiscVal',\n",
       " 'MoSold',\n",
       " 'YrSold']"
      ]
     },
     "execution_count": 29,
     "metadata": {},
     "output_type": "execute_result"
    }
   ],
   "source": [
    "numerical_columns"
   ]
  },
  {
   "cell_type": "code",
   "execution_count": 30,
   "id": "01b5ef41",
   "metadata": {
    "execution": {
     "iopub.execute_input": "2024-06-14T08:20:29.164158Z",
     "iopub.status.busy": "2024-06-14T08:20:29.163774Z",
     "iopub.status.idle": "2024-06-14T08:20:29.170529Z",
     "shell.execute_reply": "2024-06-14T08:20:29.169466Z"
    },
    "papermill": {
     "duration": 0.028762,
     "end_time": "2024-06-14T08:20:29.172681",
     "exception": false,
     "start_time": "2024-06-14T08:20:29.143919",
     "status": "completed"
    },
    "tags": []
   },
   "outputs": [
    {
     "data": {
      "text/plain": [
       "(46, 46)"
      ]
     },
     "execution_count": 30,
     "metadata": {},
     "output_type": "execute_result"
    }
   ],
   "source": [
    "len(test.columns),len(X.columns)"
   ]
  },
  {
   "cell_type": "code",
   "execution_count": 31,
   "id": "e5714776",
   "metadata": {
    "execution": {
     "iopub.execute_input": "2024-06-14T08:20:29.211779Z",
     "iopub.status.busy": "2024-06-14T08:20:29.211420Z",
     "iopub.status.idle": "2024-06-14T08:20:29.217581Z",
     "shell.execute_reply": "2024-06-14T08:20:29.216632Z"
    },
    "papermill": {
     "duration": 0.028328,
     "end_time": "2024-06-14T08:20:29.219756",
     "exception": false,
     "start_time": "2024-06-14T08:20:29.191428",
     "status": "completed"
    },
    "tags": []
   },
   "outputs": [
    {
     "data": {
      "text/plain": [
       "set()"
      ]
     },
     "execution_count": 31,
     "metadata": {},
     "output_type": "execute_result"
    }
   ],
   "source": [
    "set(test.columns)-set(X.columns)"
   ]
  },
  {
   "cell_type": "code",
   "execution_count": 32,
   "id": "8e30c569",
   "metadata": {
    "execution": {
     "iopub.execute_input": "2024-06-14T08:20:29.259568Z",
     "iopub.status.busy": "2024-06-14T08:20:29.258872Z",
     "iopub.status.idle": "2024-06-14T08:20:29.271445Z",
     "shell.execute_reply": "2024-06-14T08:20:29.270458Z"
    },
    "papermill": {
     "duration": 0.034996,
     "end_time": "2024-06-14T08:20:29.273663",
     "exception": false,
     "start_time": "2024-06-14T08:20:29.238667",
     "status": "completed"
    },
    "tags": []
   },
   "outputs": [
    {
     "data": {
      "text/plain": [
       "(Street\n",
       " Pave    1454\n",
       " Grvl       6\n",
       " Name: count, dtype: int64,\n",
       " Street\n",
       " Pave    1453\n",
       " Grvl       6\n",
       " Name: count, dtype: int64)"
      ]
     },
     "execution_count": 32,
     "metadata": {},
     "output_type": "execute_result"
    }
   ],
   "source": [
    "X['Street'].value_counts(),test['Street'].value_counts()"
   ]
  },
  {
   "cell_type": "code",
   "execution_count": 33,
   "id": "2d4ef6cc",
   "metadata": {
    "execution": {
     "iopub.execute_input": "2024-06-14T08:20:29.313835Z",
     "iopub.status.busy": "2024-06-14T08:20:29.313468Z",
     "iopub.status.idle": "2024-06-14T08:20:29.428925Z",
     "shell.execute_reply": "2024-06-14T08:20:29.427820Z"
    },
    "papermill": {
     "duration": 0.138617,
     "end_time": "2024-06-14T08:20:29.431591",
     "exception": false,
     "start_time": "2024-06-14T08:20:29.292974",
     "status": "completed"
    },
    "tags": []
   },
   "outputs": [],
   "source": [
    "from sklearn.preprocessing import OrdinalEncoder"
   ]
  },
  {
   "cell_type": "code",
   "execution_count": 34,
   "id": "dab9271f",
   "metadata": {
    "execution": {
     "iopub.execute_input": "2024-06-14T08:20:29.471273Z",
     "iopub.status.busy": "2024-06-14T08:20:29.470893Z",
     "iopub.status.idle": "2024-06-14T08:20:29.507771Z",
     "shell.execute_reply": "2024-06-14T08:20:29.506759Z"
    },
    "papermill": {
     "duration": 0.059002,
     "end_time": "2024-06-14T08:20:29.509897",
     "exception": false,
     "start_time": "2024-06-14T08:20:29.450895",
     "status": "completed"
    },
    "tags": []
   },
   "outputs": [],
   "source": [
    "enc=OrdinalEncoder()\n",
    "ord_encoded=enc.fit_transform(X[categorical_columns])\n",
    "ord_tested=enc.fit_transform(test[categorical_columns])"
   ]
  },
  {
   "cell_type": "code",
   "execution_count": 35,
   "id": "0da4ccba",
   "metadata": {
    "execution": {
     "iopub.execute_input": "2024-06-14T08:20:29.550211Z",
     "iopub.status.busy": "2024-06-14T08:20:29.549285Z",
     "iopub.status.idle": "2024-06-14T08:20:29.555524Z",
     "shell.execute_reply": "2024-06-14T08:20:29.554654Z"
    },
    "papermill": {
     "duration": 0.028616,
     "end_time": "2024-06-14T08:20:29.557631",
     "exception": false,
     "start_time": "2024-06-14T08:20:29.529015",
     "status": "completed"
    },
    "tags": []
   },
   "outputs": [
    {
     "data": {
      "text/plain": [
       "((1460, 20), (1459, 20))"
      ]
     },
     "execution_count": 35,
     "metadata": {},
     "output_type": "execute_result"
    }
   ],
   "source": [
    "ord_encoded.shape,ord_tested.shape"
   ]
  },
  {
   "cell_type": "code",
   "execution_count": 36,
   "id": "4cbca792",
   "metadata": {
    "execution": {
     "iopub.execute_input": "2024-06-14T08:20:29.597602Z",
     "iopub.status.busy": "2024-06-14T08:20:29.597148Z",
     "iopub.status.idle": "2024-06-14T08:20:29.604921Z",
     "shell.execute_reply": "2024-06-14T08:20:29.603958Z"
    },
    "papermill": {
     "duration": 0.030414,
     "end_time": "2024-06-14T08:20:29.607031",
     "exception": false,
     "start_time": "2024-06-14T08:20:29.576617",
     "status": "completed"
    },
    "tags": []
   },
   "outputs": [
    {
     "data": {
      "text/plain": [
       "Index(['Street', 'LotShape', 'LandContour', 'LotConfig', 'LandSlope',\n",
       "       'Neighborhood', 'Condition1', 'Condition2', 'BldgType', 'HouseStyle',\n",
       "       'RoofStyle', 'RoofMatl', 'ExterQual', 'ExterCond', 'Foundation',\n",
       "       'Heating', 'HeatingQC', 'CentralAir', 'PavedDrive', 'SaleCondition'],\n",
       "      dtype='object')"
      ]
     },
     "execution_count": 36,
     "metadata": {},
     "output_type": "execute_result"
    }
   ],
   "source": [
    "X[categorical_columns].columns"
   ]
  },
  {
   "cell_type": "code",
   "execution_count": 37,
   "id": "c4bd583e",
   "metadata": {
    "execution": {
     "iopub.execute_input": "2024-06-14T08:20:29.647609Z",
     "iopub.status.busy": "2024-06-14T08:20:29.647243Z",
     "iopub.status.idle": "2024-06-14T08:20:29.655115Z",
     "shell.execute_reply": "2024-06-14T08:20:29.654133Z"
    },
    "papermill": {
     "duration": 0.030435,
     "end_time": "2024-06-14T08:20:29.657133",
     "exception": false,
     "start_time": "2024-06-14T08:20:29.626698",
     "status": "completed"
    },
    "tags": []
   },
   "outputs": [
    {
     "data": {
      "text/plain": [
       "Index(['Street', 'LotShape', 'LandContour', 'LotConfig', 'LandSlope',\n",
       "       'Neighborhood', 'Condition1', 'Condition2', 'BldgType', 'HouseStyle',\n",
       "       'RoofStyle', 'RoofMatl', 'ExterQual', 'ExterCond', 'Foundation',\n",
       "       'Heating', 'HeatingQC', 'CentralAir', 'PavedDrive', 'SaleCondition'],\n",
       "      dtype='object')"
      ]
     },
     "execution_count": 37,
     "metadata": {},
     "output_type": "execute_result"
    }
   ],
   "source": [
    "test[categorical_columns].columns"
   ]
  },
  {
   "cell_type": "code",
   "execution_count": 38,
   "id": "80fc54f7",
   "metadata": {
    "execution": {
     "iopub.execute_input": "2024-06-14T08:20:29.697638Z",
     "iopub.status.busy": "2024-06-14T08:20:29.697244Z",
     "iopub.status.idle": "2024-06-14T08:20:29.705050Z",
     "shell.execute_reply": "2024-06-14T08:20:29.704134Z"
    },
    "papermill": {
     "duration": 0.030349,
     "end_time": "2024-06-14T08:20:29.707136",
     "exception": false,
     "start_time": "2024-06-14T08:20:29.676787",
     "status": "completed"
    },
    "tags": []
   },
   "outputs": [
    {
     "data": {
      "text/plain": [
       "Index(['Street', 'LotShape', 'LandContour', 'LotConfig', 'LandSlope',\n",
       "       'Neighborhood', 'Condition1', 'Condition2', 'BldgType', 'HouseStyle',\n",
       "       'RoofStyle', 'RoofMatl', 'ExterQual', 'ExterCond', 'Foundation',\n",
       "       'Heating', 'HeatingQC', 'CentralAir', 'PavedDrive', 'SaleCondition'],\n",
       "      dtype='object')"
      ]
     },
     "execution_count": 38,
     "metadata": {},
     "output_type": "execute_result"
    }
   ],
   "source": [
    "X[categorical_columns].columns"
   ]
  },
  {
   "cell_type": "code",
   "execution_count": 39,
   "id": "edb88b82",
   "metadata": {
    "execution": {
     "iopub.execute_input": "2024-06-14T08:20:29.747793Z",
     "iopub.status.busy": "2024-06-14T08:20:29.747400Z",
     "iopub.status.idle": "2024-06-14T08:20:29.755418Z",
     "shell.execute_reply": "2024-06-14T08:20:29.754438Z"
    },
    "papermill": {
     "duration": 0.030809,
     "end_time": "2024-06-14T08:20:29.757459",
     "exception": false,
     "start_time": "2024-06-14T08:20:29.726650",
     "status": "completed"
    },
    "tags": []
   },
   "outputs": [
    {
     "data": {
      "text/plain": [
       "(20,)"
      ]
     },
     "execution_count": 39,
     "metadata": {},
     "output_type": "execute_result"
    }
   ],
   "source": [
    "enc.get_feature_names_out(categorical_columns).shape"
   ]
  },
  {
   "cell_type": "code",
   "execution_count": null,
   "id": "141459d6",
   "metadata": {
    "papermill": {
     "duration": 0.019262,
     "end_time": "2024-06-14T08:20:29.796347",
     "exception": false,
     "start_time": "2024-06-14T08:20:29.777085",
     "status": "completed"
    },
    "tags": []
   },
   "outputs": [],
   "source": []
  },
  {
   "cell_type": "code",
   "execution_count": 40,
   "id": "edc959fb",
   "metadata": {
    "execution": {
     "iopub.execute_input": "2024-06-14T08:20:29.836787Z",
     "iopub.status.busy": "2024-06-14T08:20:29.836432Z",
     "iopub.status.idle": "2024-06-14T08:20:29.847864Z",
     "shell.execute_reply": "2024-06-14T08:20:29.846928Z"
    },
    "papermill": {
     "duration": 0.034374,
     "end_time": "2024-06-14T08:20:29.850126",
     "exception": false,
     "start_time": "2024-06-14T08:20:29.815752",
     "status": "completed"
    },
    "tags": []
   },
   "outputs": [],
   "source": [
    "ord_df=pd.DataFrame(ord_encoded,columns=enc.get_feature_names_out(categorical_columns))\n",
    "ord_test=pd.DataFrame(ord_tested,columns=enc.get_feature_names_out(categorical_columns))\n",
    "X_encoded=pd.concat([X,ord_df],axis=1)\n",
    "test_encoded=pd.concat([test,ord_test],axis=1)\n",
    "X_encoded=X_encoded.drop(categorical_columns,axis=1)\n",
    "test_encoded=test_encoded.drop(categorical_columns,axis=1)"
   ]
  },
  {
   "cell_type": "code",
   "execution_count": 41,
   "id": "b158cb49",
   "metadata": {
    "execution": {
     "iopub.execute_input": "2024-06-14T08:20:29.891177Z",
     "iopub.status.busy": "2024-06-14T08:20:29.890791Z",
     "iopub.status.idle": "2024-06-14T08:20:29.964046Z",
     "shell.execute_reply": "2024-06-14T08:20:29.963082Z"
    },
    "papermill": {
     "duration": 0.096387,
     "end_time": "2024-06-14T08:20:29.966346",
     "exception": false,
     "start_time": "2024-06-14T08:20:29.869959",
     "status": "completed"
    },
    "tags": []
   },
   "outputs": [
    {
     "data": {
      "text/html": [
       "<div>\n",
       "<style scoped>\n",
       "    .dataframe tbody tr th:only-of-type {\n",
       "        vertical-align: middle;\n",
       "    }\n",
       "\n",
       "    .dataframe tbody tr th {\n",
       "        vertical-align: top;\n",
       "    }\n",
       "\n",
       "    .dataframe thead th {\n",
       "        text-align: right;\n",
       "    }\n",
       "</style>\n",
       "<table border=\"1\" class=\"dataframe\">\n",
       "  <thead>\n",
       "    <tr style=\"text-align: right;\">\n",
       "      <th></th>\n",
       "      <th>Id</th>\n",
       "      <th>MSSubClass</th>\n",
       "      <th>LotArea</th>\n",
       "      <th>OverallQual</th>\n",
       "      <th>OverallCond</th>\n",
       "      <th>YearBuilt</th>\n",
       "      <th>YearRemodAdd</th>\n",
       "      <th>1stFlrSF</th>\n",
       "      <th>2ndFlrSF</th>\n",
       "      <th>LowQualFinSF</th>\n",
       "      <th>...</th>\n",
       "      <th>Fireplaces</th>\n",
       "      <th>WoodDeckSF</th>\n",
       "      <th>OpenPorchSF</th>\n",
       "      <th>EnclosedPorch</th>\n",
       "      <th>3SsnPorch</th>\n",
       "      <th>ScreenPorch</th>\n",
       "      <th>PoolArea</th>\n",
       "      <th>MiscVal</th>\n",
       "      <th>MoSold</th>\n",
       "      <th>YrSold</th>\n",
       "    </tr>\n",
       "  </thead>\n",
       "  <tbody>\n",
       "    <tr>\n",
       "      <th>count</th>\n",
       "      <td>1460.000000</td>\n",
       "      <td>1460.000000</td>\n",
       "      <td>1460.000000</td>\n",
       "      <td>1460.000000</td>\n",
       "      <td>1460.000000</td>\n",
       "      <td>1460.000000</td>\n",
       "      <td>1460.000000</td>\n",
       "      <td>1460.000000</td>\n",
       "      <td>1460.000000</td>\n",
       "      <td>1460.000000</td>\n",
       "      <td>...</td>\n",
       "      <td>1460.000000</td>\n",
       "      <td>1460.000000</td>\n",
       "      <td>1460.000000</td>\n",
       "      <td>1460.000000</td>\n",
       "      <td>1460.000000</td>\n",
       "      <td>1460.000000</td>\n",
       "      <td>1460.000000</td>\n",
       "      <td>1460.000000</td>\n",
       "      <td>1460.000000</td>\n",
       "      <td>1460.000000</td>\n",
       "    </tr>\n",
       "    <tr>\n",
       "      <th>mean</th>\n",
       "      <td>730.500000</td>\n",
       "      <td>56.897260</td>\n",
       "      <td>10516.828082</td>\n",
       "      <td>6.099315</td>\n",
       "      <td>5.575342</td>\n",
       "      <td>1971.267808</td>\n",
       "      <td>1984.865753</td>\n",
       "      <td>1162.626712</td>\n",
       "      <td>346.992466</td>\n",
       "      <td>5.844521</td>\n",
       "      <td>...</td>\n",
       "      <td>0.613014</td>\n",
       "      <td>94.244521</td>\n",
       "      <td>46.660274</td>\n",
       "      <td>21.954110</td>\n",
       "      <td>3.409589</td>\n",
       "      <td>15.060959</td>\n",
       "      <td>2.758904</td>\n",
       "      <td>43.489041</td>\n",
       "      <td>6.321918</td>\n",
       "      <td>2007.815753</td>\n",
       "    </tr>\n",
       "    <tr>\n",
       "      <th>std</th>\n",
       "      <td>421.610009</td>\n",
       "      <td>42.300571</td>\n",
       "      <td>9981.264932</td>\n",
       "      <td>1.382997</td>\n",
       "      <td>1.112799</td>\n",
       "      <td>30.202904</td>\n",
       "      <td>20.645407</td>\n",
       "      <td>386.587738</td>\n",
       "      <td>436.528436</td>\n",
       "      <td>48.623081</td>\n",
       "      <td>...</td>\n",
       "      <td>0.644666</td>\n",
       "      <td>125.338794</td>\n",
       "      <td>66.256028</td>\n",
       "      <td>61.119149</td>\n",
       "      <td>29.317331</td>\n",
       "      <td>55.757415</td>\n",
       "      <td>40.177307</td>\n",
       "      <td>496.123024</td>\n",
       "      <td>2.703626</td>\n",
       "      <td>1.328095</td>\n",
       "    </tr>\n",
       "    <tr>\n",
       "      <th>min</th>\n",
       "      <td>1.000000</td>\n",
       "      <td>20.000000</td>\n",
       "      <td>1300.000000</td>\n",
       "      <td>1.000000</td>\n",
       "      <td>1.000000</td>\n",
       "      <td>1872.000000</td>\n",
       "      <td>1950.000000</td>\n",
       "      <td>334.000000</td>\n",
       "      <td>0.000000</td>\n",
       "      <td>0.000000</td>\n",
       "      <td>...</td>\n",
       "      <td>0.000000</td>\n",
       "      <td>0.000000</td>\n",
       "      <td>0.000000</td>\n",
       "      <td>0.000000</td>\n",
       "      <td>0.000000</td>\n",
       "      <td>0.000000</td>\n",
       "      <td>0.000000</td>\n",
       "      <td>0.000000</td>\n",
       "      <td>1.000000</td>\n",
       "      <td>2006.000000</td>\n",
       "    </tr>\n",
       "    <tr>\n",
       "      <th>25%</th>\n",
       "      <td>365.750000</td>\n",
       "      <td>20.000000</td>\n",
       "      <td>7553.500000</td>\n",
       "      <td>5.000000</td>\n",
       "      <td>5.000000</td>\n",
       "      <td>1954.000000</td>\n",
       "      <td>1967.000000</td>\n",
       "      <td>882.000000</td>\n",
       "      <td>0.000000</td>\n",
       "      <td>0.000000</td>\n",
       "      <td>...</td>\n",
       "      <td>0.000000</td>\n",
       "      <td>0.000000</td>\n",
       "      <td>0.000000</td>\n",
       "      <td>0.000000</td>\n",
       "      <td>0.000000</td>\n",
       "      <td>0.000000</td>\n",
       "      <td>0.000000</td>\n",
       "      <td>0.000000</td>\n",
       "      <td>5.000000</td>\n",
       "      <td>2007.000000</td>\n",
       "    </tr>\n",
       "    <tr>\n",
       "      <th>50%</th>\n",
       "      <td>730.500000</td>\n",
       "      <td>50.000000</td>\n",
       "      <td>9478.500000</td>\n",
       "      <td>6.000000</td>\n",
       "      <td>5.000000</td>\n",
       "      <td>1973.000000</td>\n",
       "      <td>1994.000000</td>\n",
       "      <td>1087.000000</td>\n",
       "      <td>0.000000</td>\n",
       "      <td>0.000000</td>\n",
       "      <td>...</td>\n",
       "      <td>1.000000</td>\n",
       "      <td>0.000000</td>\n",
       "      <td>25.000000</td>\n",
       "      <td>0.000000</td>\n",
       "      <td>0.000000</td>\n",
       "      <td>0.000000</td>\n",
       "      <td>0.000000</td>\n",
       "      <td>0.000000</td>\n",
       "      <td>6.000000</td>\n",
       "      <td>2008.000000</td>\n",
       "    </tr>\n",
       "    <tr>\n",
       "      <th>75%</th>\n",
       "      <td>1095.250000</td>\n",
       "      <td>70.000000</td>\n",
       "      <td>11601.500000</td>\n",
       "      <td>7.000000</td>\n",
       "      <td>6.000000</td>\n",
       "      <td>2000.000000</td>\n",
       "      <td>2004.000000</td>\n",
       "      <td>1391.250000</td>\n",
       "      <td>728.000000</td>\n",
       "      <td>0.000000</td>\n",
       "      <td>...</td>\n",
       "      <td>1.000000</td>\n",
       "      <td>168.000000</td>\n",
       "      <td>68.000000</td>\n",
       "      <td>0.000000</td>\n",
       "      <td>0.000000</td>\n",
       "      <td>0.000000</td>\n",
       "      <td>0.000000</td>\n",
       "      <td>0.000000</td>\n",
       "      <td>8.000000</td>\n",
       "      <td>2009.000000</td>\n",
       "    </tr>\n",
       "    <tr>\n",
       "      <th>max</th>\n",
       "      <td>1460.000000</td>\n",
       "      <td>190.000000</td>\n",
       "      <td>215245.000000</td>\n",
       "      <td>10.000000</td>\n",
       "      <td>9.000000</td>\n",
       "      <td>2010.000000</td>\n",
       "      <td>2010.000000</td>\n",
       "      <td>4692.000000</td>\n",
       "      <td>2065.000000</td>\n",
       "      <td>572.000000</td>\n",
       "      <td>...</td>\n",
       "      <td>3.000000</td>\n",
       "      <td>857.000000</td>\n",
       "      <td>547.000000</td>\n",
       "      <td>552.000000</td>\n",
       "      <td>508.000000</td>\n",
       "      <td>480.000000</td>\n",
       "      <td>738.000000</td>\n",
       "      <td>15500.000000</td>\n",
       "      <td>12.000000</td>\n",
       "      <td>2010.000000</td>\n",
       "    </tr>\n",
       "  </tbody>\n",
       "</table>\n",
       "<p>8 rows × 26 columns</p>\n",
       "</div>"
      ],
      "text/plain": [
       "                Id   MSSubClass        LotArea  OverallQual  OverallCond  \\\n",
       "count  1460.000000  1460.000000    1460.000000  1460.000000  1460.000000   \n",
       "mean    730.500000    56.897260   10516.828082     6.099315     5.575342   \n",
       "std     421.610009    42.300571    9981.264932     1.382997     1.112799   \n",
       "min       1.000000    20.000000    1300.000000     1.000000     1.000000   \n",
       "25%     365.750000    20.000000    7553.500000     5.000000     5.000000   \n",
       "50%     730.500000    50.000000    9478.500000     6.000000     5.000000   \n",
       "75%    1095.250000    70.000000   11601.500000     7.000000     6.000000   \n",
       "max    1460.000000   190.000000  215245.000000    10.000000     9.000000   \n",
       "\n",
       "         YearBuilt  YearRemodAdd     1stFlrSF     2ndFlrSF  LowQualFinSF  ...  \\\n",
       "count  1460.000000   1460.000000  1460.000000  1460.000000   1460.000000  ...   \n",
       "mean   1971.267808   1984.865753  1162.626712   346.992466      5.844521  ...   \n",
       "std      30.202904     20.645407   386.587738   436.528436     48.623081  ...   \n",
       "min    1872.000000   1950.000000   334.000000     0.000000      0.000000  ...   \n",
       "25%    1954.000000   1967.000000   882.000000     0.000000      0.000000  ...   \n",
       "50%    1973.000000   1994.000000  1087.000000     0.000000      0.000000  ...   \n",
       "75%    2000.000000   2004.000000  1391.250000   728.000000      0.000000  ...   \n",
       "max    2010.000000   2010.000000  4692.000000  2065.000000    572.000000  ...   \n",
       "\n",
       "        Fireplaces   WoodDeckSF  OpenPorchSF  EnclosedPorch    3SsnPorch  \\\n",
       "count  1460.000000  1460.000000  1460.000000    1460.000000  1460.000000   \n",
       "mean      0.613014    94.244521    46.660274      21.954110     3.409589   \n",
       "std       0.644666   125.338794    66.256028      61.119149    29.317331   \n",
       "min       0.000000     0.000000     0.000000       0.000000     0.000000   \n",
       "25%       0.000000     0.000000     0.000000       0.000000     0.000000   \n",
       "50%       1.000000     0.000000    25.000000       0.000000     0.000000   \n",
       "75%       1.000000   168.000000    68.000000       0.000000     0.000000   \n",
       "max       3.000000   857.000000   547.000000     552.000000   508.000000   \n",
       "\n",
       "       ScreenPorch     PoolArea       MiscVal       MoSold       YrSold  \n",
       "count  1460.000000  1460.000000   1460.000000  1460.000000  1460.000000  \n",
       "mean     15.060959     2.758904     43.489041     6.321918  2007.815753  \n",
       "std      55.757415    40.177307    496.123024     2.703626     1.328095  \n",
       "min       0.000000     0.000000      0.000000     1.000000  2006.000000  \n",
       "25%       0.000000     0.000000      0.000000     5.000000  2007.000000  \n",
       "50%       0.000000     0.000000      0.000000     6.000000  2008.000000  \n",
       "75%       0.000000     0.000000      0.000000     8.000000  2009.000000  \n",
       "max     480.000000   738.000000  15500.000000    12.000000  2010.000000  \n",
       "\n",
       "[8 rows x 26 columns]"
      ]
     },
     "execution_count": 41,
     "metadata": {},
     "output_type": "execute_result"
    }
   ],
   "source": [
    "X_encoded.describe()"
   ]
  },
  {
   "cell_type": "code",
   "execution_count": 42,
   "id": "2736cfd2",
   "metadata": {
    "execution": {
     "iopub.execute_input": "2024-06-14T08:20:30.009284Z",
     "iopub.status.busy": "2024-06-14T08:20:30.008453Z",
     "iopub.status.idle": "2024-06-14T08:20:30.024689Z",
     "shell.execute_reply": "2024-06-14T08:20:30.023667Z"
    },
    "papermill": {
     "duration": 0.040413,
     "end_time": "2024-06-14T08:20:30.027219",
     "exception": false,
     "start_time": "2024-06-14T08:20:29.986806",
     "status": "completed"
    },
    "tags": []
   },
   "outputs": [
    {
     "name": "stdout",
     "output_type": "stream",
     "text": [
      "<class 'pandas.core.frame.DataFrame'>\n",
      "RangeIndex: 1460 entries, 0 to 1459\n",
      "Data columns (total 26 columns):\n",
      " #   Column         Non-Null Count  Dtype\n",
      "---  ------         --------------  -----\n",
      " 0   Id             1460 non-null   int64\n",
      " 1   MSSubClass     1460 non-null   int64\n",
      " 2   LotArea        1460 non-null   int64\n",
      " 3   OverallQual    1460 non-null   int64\n",
      " 4   OverallCond    1460 non-null   int64\n",
      " 5   YearBuilt      1460 non-null   int64\n",
      " 6   YearRemodAdd   1460 non-null   int64\n",
      " 7   1stFlrSF       1460 non-null   int64\n",
      " 8   2ndFlrSF       1460 non-null   int64\n",
      " 9   LowQualFinSF   1460 non-null   int64\n",
      " 10  GrLivArea      1460 non-null   int64\n",
      " 11  FullBath       1460 non-null   int64\n",
      " 12  HalfBath       1460 non-null   int64\n",
      " 13  BedroomAbvGr   1460 non-null   int64\n",
      " 14  KitchenAbvGr   1460 non-null   int64\n",
      " 15  TotRmsAbvGrd   1460 non-null   int64\n",
      " 16  Fireplaces     1460 non-null   int64\n",
      " 17  WoodDeckSF     1460 non-null   int64\n",
      " 18  OpenPorchSF    1460 non-null   int64\n",
      " 19  EnclosedPorch  1460 non-null   int64\n",
      " 20  3SsnPorch      1460 non-null   int64\n",
      " 21  ScreenPorch    1460 non-null   int64\n",
      " 22  PoolArea       1460 non-null   int64\n",
      " 23  MiscVal        1460 non-null   int64\n",
      " 24  MoSold         1460 non-null   int64\n",
      " 25  YrSold         1460 non-null   int64\n",
      "dtypes: int64(26)\n",
      "memory usage: 296.7 KB\n"
     ]
    }
   ],
   "source": [
    "X_encoded.info()"
   ]
  },
  {
   "cell_type": "code",
   "execution_count": 43,
   "id": "09cfda22",
   "metadata": {
    "execution": {
     "iopub.execute_input": "2024-06-14T08:20:30.071941Z",
     "iopub.status.busy": "2024-06-14T08:20:30.070968Z",
     "iopub.status.idle": "2024-06-14T08:20:30.138135Z",
     "shell.execute_reply": "2024-06-14T08:20:30.137043Z"
    },
    "papermill": {
     "duration": 0.092214,
     "end_time": "2024-06-14T08:20:30.140379",
     "exception": false,
     "start_time": "2024-06-14T08:20:30.048165",
     "status": "completed"
    },
    "tags": []
   },
   "outputs": [
    {
     "data": {
      "text/html": [
       "<div>\n",
       "<style scoped>\n",
       "    .dataframe tbody tr th:only-of-type {\n",
       "        vertical-align: middle;\n",
       "    }\n",
       "\n",
       "    .dataframe tbody tr th {\n",
       "        vertical-align: top;\n",
       "    }\n",
       "\n",
       "    .dataframe thead th {\n",
       "        text-align: right;\n",
       "    }\n",
       "</style>\n",
       "<table border=\"1\" class=\"dataframe\">\n",
       "  <thead>\n",
       "    <tr style=\"text-align: right;\">\n",
       "      <th></th>\n",
       "      <th>Id</th>\n",
       "      <th>MSSubClass</th>\n",
       "      <th>LotArea</th>\n",
       "      <th>OverallQual</th>\n",
       "      <th>OverallCond</th>\n",
       "      <th>YearBuilt</th>\n",
       "      <th>YearRemodAdd</th>\n",
       "      <th>1stFlrSF</th>\n",
       "      <th>2ndFlrSF</th>\n",
       "      <th>LowQualFinSF</th>\n",
       "      <th>...</th>\n",
       "      <th>Fireplaces</th>\n",
       "      <th>WoodDeckSF</th>\n",
       "      <th>OpenPorchSF</th>\n",
       "      <th>EnclosedPorch</th>\n",
       "      <th>3SsnPorch</th>\n",
       "      <th>ScreenPorch</th>\n",
       "      <th>PoolArea</th>\n",
       "      <th>MiscVal</th>\n",
       "      <th>MoSold</th>\n",
       "      <th>YrSold</th>\n",
       "    </tr>\n",
       "  </thead>\n",
       "  <tbody>\n",
       "    <tr>\n",
       "      <th>count</th>\n",
       "      <td>1460.000000</td>\n",
       "      <td>1460.000000</td>\n",
       "      <td>1460.000000</td>\n",
       "      <td>1460.000000</td>\n",
       "      <td>1460.000000</td>\n",
       "      <td>1460.000000</td>\n",
       "      <td>1460.000000</td>\n",
       "      <td>1460.000000</td>\n",
       "      <td>1460.000000</td>\n",
       "      <td>1460.000000</td>\n",
       "      <td>...</td>\n",
       "      <td>1460.000000</td>\n",
       "      <td>1460.000000</td>\n",
       "      <td>1460.000000</td>\n",
       "      <td>1460.000000</td>\n",
       "      <td>1460.000000</td>\n",
       "      <td>1460.000000</td>\n",
       "      <td>1460.000000</td>\n",
       "      <td>1460.000000</td>\n",
       "      <td>1460.000000</td>\n",
       "      <td>1460.000000</td>\n",
       "    </tr>\n",
       "    <tr>\n",
       "      <th>mean</th>\n",
       "      <td>730.500000</td>\n",
       "      <td>56.897260</td>\n",
       "      <td>10516.828082</td>\n",
       "      <td>6.099315</td>\n",
       "      <td>5.575342</td>\n",
       "      <td>1971.267808</td>\n",
       "      <td>1984.865753</td>\n",
       "      <td>1162.626712</td>\n",
       "      <td>346.992466</td>\n",
       "      <td>5.844521</td>\n",
       "      <td>...</td>\n",
       "      <td>0.613014</td>\n",
       "      <td>94.244521</td>\n",
       "      <td>46.660274</td>\n",
       "      <td>21.954110</td>\n",
       "      <td>3.409589</td>\n",
       "      <td>15.060959</td>\n",
       "      <td>2.758904</td>\n",
       "      <td>43.489041</td>\n",
       "      <td>6.321918</td>\n",
       "      <td>2007.815753</td>\n",
       "    </tr>\n",
       "    <tr>\n",
       "      <th>std</th>\n",
       "      <td>421.610009</td>\n",
       "      <td>42.300571</td>\n",
       "      <td>9981.264932</td>\n",
       "      <td>1.382997</td>\n",
       "      <td>1.112799</td>\n",
       "      <td>30.202904</td>\n",
       "      <td>20.645407</td>\n",
       "      <td>386.587738</td>\n",
       "      <td>436.528436</td>\n",
       "      <td>48.623081</td>\n",
       "      <td>...</td>\n",
       "      <td>0.644666</td>\n",
       "      <td>125.338794</td>\n",
       "      <td>66.256028</td>\n",
       "      <td>61.119149</td>\n",
       "      <td>29.317331</td>\n",
       "      <td>55.757415</td>\n",
       "      <td>40.177307</td>\n",
       "      <td>496.123024</td>\n",
       "      <td>2.703626</td>\n",
       "      <td>1.328095</td>\n",
       "    </tr>\n",
       "    <tr>\n",
       "      <th>min</th>\n",
       "      <td>1.000000</td>\n",
       "      <td>20.000000</td>\n",
       "      <td>1300.000000</td>\n",
       "      <td>1.000000</td>\n",
       "      <td>1.000000</td>\n",
       "      <td>1872.000000</td>\n",
       "      <td>1950.000000</td>\n",
       "      <td>334.000000</td>\n",
       "      <td>0.000000</td>\n",
       "      <td>0.000000</td>\n",
       "      <td>...</td>\n",
       "      <td>0.000000</td>\n",
       "      <td>0.000000</td>\n",
       "      <td>0.000000</td>\n",
       "      <td>0.000000</td>\n",
       "      <td>0.000000</td>\n",
       "      <td>0.000000</td>\n",
       "      <td>0.000000</td>\n",
       "      <td>0.000000</td>\n",
       "      <td>1.000000</td>\n",
       "      <td>2006.000000</td>\n",
       "    </tr>\n",
       "    <tr>\n",
       "      <th>25%</th>\n",
       "      <td>365.750000</td>\n",
       "      <td>20.000000</td>\n",
       "      <td>7553.500000</td>\n",
       "      <td>5.000000</td>\n",
       "      <td>5.000000</td>\n",
       "      <td>1954.000000</td>\n",
       "      <td>1967.000000</td>\n",
       "      <td>882.000000</td>\n",
       "      <td>0.000000</td>\n",
       "      <td>0.000000</td>\n",
       "      <td>...</td>\n",
       "      <td>0.000000</td>\n",
       "      <td>0.000000</td>\n",
       "      <td>0.000000</td>\n",
       "      <td>0.000000</td>\n",
       "      <td>0.000000</td>\n",
       "      <td>0.000000</td>\n",
       "      <td>0.000000</td>\n",
       "      <td>0.000000</td>\n",
       "      <td>5.000000</td>\n",
       "      <td>2007.000000</td>\n",
       "    </tr>\n",
       "    <tr>\n",
       "      <th>50%</th>\n",
       "      <td>730.500000</td>\n",
       "      <td>50.000000</td>\n",
       "      <td>9478.500000</td>\n",
       "      <td>6.000000</td>\n",
       "      <td>5.000000</td>\n",
       "      <td>1973.000000</td>\n",
       "      <td>1994.000000</td>\n",
       "      <td>1087.000000</td>\n",
       "      <td>0.000000</td>\n",
       "      <td>0.000000</td>\n",
       "      <td>...</td>\n",
       "      <td>1.000000</td>\n",
       "      <td>0.000000</td>\n",
       "      <td>25.000000</td>\n",
       "      <td>0.000000</td>\n",
       "      <td>0.000000</td>\n",
       "      <td>0.000000</td>\n",
       "      <td>0.000000</td>\n",
       "      <td>0.000000</td>\n",
       "      <td>6.000000</td>\n",
       "      <td>2008.000000</td>\n",
       "    </tr>\n",
       "    <tr>\n",
       "      <th>75%</th>\n",
       "      <td>1095.250000</td>\n",
       "      <td>70.000000</td>\n",
       "      <td>11601.500000</td>\n",
       "      <td>7.000000</td>\n",
       "      <td>6.000000</td>\n",
       "      <td>2000.000000</td>\n",
       "      <td>2004.000000</td>\n",
       "      <td>1391.250000</td>\n",
       "      <td>728.000000</td>\n",
       "      <td>0.000000</td>\n",
       "      <td>...</td>\n",
       "      <td>1.000000</td>\n",
       "      <td>168.000000</td>\n",
       "      <td>68.000000</td>\n",
       "      <td>0.000000</td>\n",
       "      <td>0.000000</td>\n",
       "      <td>0.000000</td>\n",
       "      <td>0.000000</td>\n",
       "      <td>0.000000</td>\n",
       "      <td>8.000000</td>\n",
       "      <td>2009.000000</td>\n",
       "    </tr>\n",
       "    <tr>\n",
       "      <th>max</th>\n",
       "      <td>1460.000000</td>\n",
       "      <td>190.000000</td>\n",
       "      <td>215245.000000</td>\n",
       "      <td>10.000000</td>\n",
       "      <td>9.000000</td>\n",
       "      <td>2010.000000</td>\n",
       "      <td>2010.000000</td>\n",
       "      <td>4692.000000</td>\n",
       "      <td>2065.000000</td>\n",
       "      <td>572.000000</td>\n",
       "      <td>...</td>\n",
       "      <td>3.000000</td>\n",
       "      <td>857.000000</td>\n",
       "      <td>547.000000</td>\n",
       "      <td>552.000000</td>\n",
       "      <td>508.000000</td>\n",
       "      <td>480.000000</td>\n",
       "      <td>738.000000</td>\n",
       "      <td>15500.000000</td>\n",
       "      <td>12.000000</td>\n",
       "      <td>2010.000000</td>\n",
       "    </tr>\n",
       "  </tbody>\n",
       "</table>\n",
       "<p>8 rows × 26 columns</p>\n",
       "</div>"
      ],
      "text/plain": [
       "                Id   MSSubClass        LotArea  OverallQual  OverallCond  \\\n",
       "count  1460.000000  1460.000000    1460.000000  1460.000000  1460.000000   \n",
       "mean    730.500000    56.897260   10516.828082     6.099315     5.575342   \n",
       "std     421.610009    42.300571    9981.264932     1.382997     1.112799   \n",
       "min       1.000000    20.000000    1300.000000     1.000000     1.000000   \n",
       "25%     365.750000    20.000000    7553.500000     5.000000     5.000000   \n",
       "50%     730.500000    50.000000    9478.500000     6.000000     5.000000   \n",
       "75%    1095.250000    70.000000   11601.500000     7.000000     6.000000   \n",
       "max    1460.000000   190.000000  215245.000000    10.000000     9.000000   \n",
       "\n",
       "         YearBuilt  YearRemodAdd     1stFlrSF     2ndFlrSF  LowQualFinSF  ...  \\\n",
       "count  1460.000000   1460.000000  1460.000000  1460.000000   1460.000000  ...   \n",
       "mean   1971.267808   1984.865753  1162.626712   346.992466      5.844521  ...   \n",
       "std      30.202904     20.645407   386.587738   436.528436     48.623081  ...   \n",
       "min    1872.000000   1950.000000   334.000000     0.000000      0.000000  ...   \n",
       "25%    1954.000000   1967.000000   882.000000     0.000000      0.000000  ...   \n",
       "50%    1973.000000   1994.000000  1087.000000     0.000000      0.000000  ...   \n",
       "75%    2000.000000   2004.000000  1391.250000   728.000000      0.000000  ...   \n",
       "max    2010.000000   2010.000000  4692.000000  2065.000000    572.000000  ...   \n",
       "\n",
       "        Fireplaces   WoodDeckSF  OpenPorchSF  EnclosedPorch    3SsnPorch  \\\n",
       "count  1460.000000  1460.000000  1460.000000    1460.000000  1460.000000   \n",
       "mean      0.613014    94.244521    46.660274      21.954110     3.409589   \n",
       "std       0.644666   125.338794    66.256028      61.119149    29.317331   \n",
       "min       0.000000     0.000000     0.000000       0.000000     0.000000   \n",
       "25%       0.000000     0.000000     0.000000       0.000000     0.000000   \n",
       "50%       1.000000     0.000000    25.000000       0.000000     0.000000   \n",
       "75%       1.000000   168.000000    68.000000       0.000000     0.000000   \n",
       "max       3.000000   857.000000   547.000000     552.000000   508.000000   \n",
       "\n",
       "       ScreenPorch     PoolArea       MiscVal       MoSold       YrSold  \n",
       "count  1460.000000  1460.000000   1460.000000  1460.000000  1460.000000  \n",
       "mean     15.060959     2.758904     43.489041     6.321918  2007.815753  \n",
       "std      55.757415    40.177307    496.123024     2.703626     1.328095  \n",
       "min       0.000000     0.000000      0.000000     1.000000  2006.000000  \n",
       "25%       0.000000     0.000000      0.000000     5.000000  2007.000000  \n",
       "50%       0.000000     0.000000      0.000000     6.000000  2008.000000  \n",
       "75%       0.000000     0.000000      0.000000     8.000000  2009.000000  \n",
       "max     480.000000   738.000000  15500.000000    12.000000  2010.000000  \n",
       "\n",
       "[8 rows x 26 columns]"
      ]
     },
     "execution_count": 43,
     "metadata": {},
     "output_type": "execute_result"
    }
   ],
   "source": [
    "X_encoded[numerical_columns].describe()"
   ]
  },
  {
   "cell_type": "code",
   "execution_count": 44,
   "id": "16f37be0",
   "metadata": {
    "execution": {
     "iopub.execute_input": "2024-06-14T08:20:30.182993Z",
     "iopub.status.busy": "2024-06-14T08:20:30.182624Z",
     "iopub.status.idle": "2024-06-14T08:20:30.201747Z",
     "shell.execute_reply": "2024-06-14T08:20:30.200698Z"
    },
    "papermill": {
     "duration": 0.043074,
     "end_time": "2024-06-14T08:20:30.204095",
     "exception": false,
     "start_time": "2024-06-14T08:20:30.161021",
     "status": "completed"
    },
    "tags": []
   },
   "outputs": [
    {
     "data": {
      "text/html": [
       "<div>\n",
       "<style scoped>\n",
       "    .dataframe tbody tr th:only-of-type {\n",
       "        vertical-align: middle;\n",
       "    }\n",
       "\n",
       "    .dataframe tbody tr th {\n",
       "        vertical-align: top;\n",
       "    }\n",
       "\n",
       "    .dataframe thead th {\n",
       "        text-align: right;\n",
       "    }\n",
       "</style>\n",
       "<table border=\"1\" class=\"dataframe\">\n",
       "  <thead>\n",
       "    <tr style=\"text-align: right;\">\n",
       "      <th></th>\n",
       "      <th>Id</th>\n",
       "      <th>MSSubClass</th>\n",
       "      <th>LotArea</th>\n",
       "      <th>OverallQual</th>\n",
       "      <th>OverallCond</th>\n",
       "      <th>YearBuilt</th>\n",
       "      <th>YearRemodAdd</th>\n",
       "      <th>1stFlrSF</th>\n",
       "      <th>2ndFlrSF</th>\n",
       "      <th>LowQualFinSF</th>\n",
       "      <th>...</th>\n",
       "      <th>Fireplaces</th>\n",
       "      <th>WoodDeckSF</th>\n",
       "      <th>OpenPorchSF</th>\n",
       "      <th>EnclosedPorch</th>\n",
       "      <th>3SsnPorch</th>\n",
       "      <th>ScreenPorch</th>\n",
       "      <th>PoolArea</th>\n",
       "      <th>MiscVal</th>\n",
       "      <th>MoSold</th>\n",
       "      <th>YrSold</th>\n",
       "    </tr>\n",
       "  </thead>\n",
       "  <tbody>\n",
       "    <tr>\n",
       "      <th>0</th>\n",
       "      <td>1</td>\n",
       "      <td>60</td>\n",
       "      <td>8450</td>\n",
       "      <td>7</td>\n",
       "      <td>5</td>\n",
       "      <td>2003</td>\n",
       "      <td>2003</td>\n",
       "      <td>856</td>\n",
       "      <td>854</td>\n",
       "      <td>0</td>\n",
       "      <td>...</td>\n",
       "      <td>0</td>\n",
       "      <td>0</td>\n",
       "      <td>61</td>\n",
       "      <td>0</td>\n",
       "      <td>0</td>\n",
       "      <td>0</td>\n",
       "      <td>0</td>\n",
       "      <td>0</td>\n",
       "      <td>2</td>\n",
       "      <td>2008</td>\n",
       "    </tr>\n",
       "    <tr>\n",
       "      <th>1</th>\n",
       "      <td>2</td>\n",
       "      <td>20</td>\n",
       "      <td>9600</td>\n",
       "      <td>6</td>\n",
       "      <td>8</td>\n",
       "      <td>1976</td>\n",
       "      <td>1976</td>\n",
       "      <td>1262</td>\n",
       "      <td>0</td>\n",
       "      <td>0</td>\n",
       "      <td>...</td>\n",
       "      <td>1</td>\n",
       "      <td>298</td>\n",
       "      <td>0</td>\n",
       "      <td>0</td>\n",
       "      <td>0</td>\n",
       "      <td>0</td>\n",
       "      <td>0</td>\n",
       "      <td>0</td>\n",
       "      <td>5</td>\n",
       "      <td>2007</td>\n",
       "    </tr>\n",
       "    <tr>\n",
       "      <th>2</th>\n",
       "      <td>3</td>\n",
       "      <td>60</td>\n",
       "      <td>11250</td>\n",
       "      <td>7</td>\n",
       "      <td>5</td>\n",
       "      <td>2001</td>\n",
       "      <td>2002</td>\n",
       "      <td>920</td>\n",
       "      <td>866</td>\n",
       "      <td>0</td>\n",
       "      <td>...</td>\n",
       "      <td>1</td>\n",
       "      <td>0</td>\n",
       "      <td>42</td>\n",
       "      <td>0</td>\n",
       "      <td>0</td>\n",
       "      <td>0</td>\n",
       "      <td>0</td>\n",
       "      <td>0</td>\n",
       "      <td>9</td>\n",
       "      <td>2008</td>\n",
       "    </tr>\n",
       "    <tr>\n",
       "      <th>3</th>\n",
       "      <td>4</td>\n",
       "      <td>70</td>\n",
       "      <td>9550</td>\n",
       "      <td>7</td>\n",
       "      <td>5</td>\n",
       "      <td>1915</td>\n",
       "      <td>1970</td>\n",
       "      <td>961</td>\n",
       "      <td>756</td>\n",
       "      <td>0</td>\n",
       "      <td>...</td>\n",
       "      <td>1</td>\n",
       "      <td>0</td>\n",
       "      <td>35</td>\n",
       "      <td>272</td>\n",
       "      <td>0</td>\n",
       "      <td>0</td>\n",
       "      <td>0</td>\n",
       "      <td>0</td>\n",
       "      <td>2</td>\n",
       "      <td>2006</td>\n",
       "    </tr>\n",
       "    <tr>\n",
       "      <th>4</th>\n",
       "      <td>5</td>\n",
       "      <td>60</td>\n",
       "      <td>14260</td>\n",
       "      <td>8</td>\n",
       "      <td>5</td>\n",
       "      <td>2000</td>\n",
       "      <td>2000</td>\n",
       "      <td>1145</td>\n",
       "      <td>1053</td>\n",
       "      <td>0</td>\n",
       "      <td>...</td>\n",
       "      <td>1</td>\n",
       "      <td>192</td>\n",
       "      <td>84</td>\n",
       "      <td>0</td>\n",
       "      <td>0</td>\n",
       "      <td>0</td>\n",
       "      <td>0</td>\n",
       "      <td>0</td>\n",
       "      <td>12</td>\n",
       "      <td>2008</td>\n",
       "    </tr>\n",
       "    <tr>\n",
       "      <th>...</th>\n",
       "      <td>...</td>\n",
       "      <td>...</td>\n",
       "      <td>...</td>\n",
       "      <td>...</td>\n",
       "      <td>...</td>\n",
       "      <td>...</td>\n",
       "      <td>...</td>\n",
       "      <td>...</td>\n",
       "      <td>...</td>\n",
       "      <td>...</td>\n",
       "      <td>...</td>\n",
       "      <td>...</td>\n",
       "      <td>...</td>\n",
       "      <td>...</td>\n",
       "      <td>...</td>\n",
       "      <td>...</td>\n",
       "      <td>...</td>\n",
       "      <td>...</td>\n",
       "      <td>...</td>\n",
       "      <td>...</td>\n",
       "      <td>...</td>\n",
       "    </tr>\n",
       "    <tr>\n",
       "      <th>1455</th>\n",
       "      <td>1456</td>\n",
       "      <td>60</td>\n",
       "      <td>7917</td>\n",
       "      <td>6</td>\n",
       "      <td>5</td>\n",
       "      <td>1999</td>\n",
       "      <td>2000</td>\n",
       "      <td>953</td>\n",
       "      <td>694</td>\n",
       "      <td>0</td>\n",
       "      <td>...</td>\n",
       "      <td>1</td>\n",
       "      <td>0</td>\n",
       "      <td>40</td>\n",
       "      <td>0</td>\n",
       "      <td>0</td>\n",
       "      <td>0</td>\n",
       "      <td>0</td>\n",
       "      <td>0</td>\n",
       "      <td>8</td>\n",
       "      <td>2007</td>\n",
       "    </tr>\n",
       "    <tr>\n",
       "      <th>1456</th>\n",
       "      <td>1457</td>\n",
       "      <td>20</td>\n",
       "      <td>13175</td>\n",
       "      <td>6</td>\n",
       "      <td>6</td>\n",
       "      <td>1978</td>\n",
       "      <td>1988</td>\n",
       "      <td>2073</td>\n",
       "      <td>0</td>\n",
       "      <td>0</td>\n",
       "      <td>...</td>\n",
       "      <td>2</td>\n",
       "      <td>349</td>\n",
       "      <td>0</td>\n",
       "      <td>0</td>\n",
       "      <td>0</td>\n",
       "      <td>0</td>\n",
       "      <td>0</td>\n",
       "      <td>0</td>\n",
       "      <td>2</td>\n",
       "      <td>2010</td>\n",
       "    </tr>\n",
       "    <tr>\n",
       "      <th>1457</th>\n",
       "      <td>1458</td>\n",
       "      <td>70</td>\n",
       "      <td>9042</td>\n",
       "      <td>7</td>\n",
       "      <td>9</td>\n",
       "      <td>1941</td>\n",
       "      <td>2006</td>\n",
       "      <td>1188</td>\n",
       "      <td>1152</td>\n",
       "      <td>0</td>\n",
       "      <td>...</td>\n",
       "      <td>2</td>\n",
       "      <td>0</td>\n",
       "      <td>60</td>\n",
       "      <td>0</td>\n",
       "      <td>0</td>\n",
       "      <td>0</td>\n",
       "      <td>0</td>\n",
       "      <td>2500</td>\n",
       "      <td>5</td>\n",
       "      <td>2010</td>\n",
       "    </tr>\n",
       "    <tr>\n",
       "      <th>1458</th>\n",
       "      <td>1459</td>\n",
       "      <td>20</td>\n",
       "      <td>9717</td>\n",
       "      <td>5</td>\n",
       "      <td>6</td>\n",
       "      <td>1950</td>\n",
       "      <td>1996</td>\n",
       "      <td>1078</td>\n",
       "      <td>0</td>\n",
       "      <td>0</td>\n",
       "      <td>...</td>\n",
       "      <td>0</td>\n",
       "      <td>366</td>\n",
       "      <td>0</td>\n",
       "      <td>112</td>\n",
       "      <td>0</td>\n",
       "      <td>0</td>\n",
       "      <td>0</td>\n",
       "      <td>0</td>\n",
       "      <td>4</td>\n",
       "      <td>2010</td>\n",
       "    </tr>\n",
       "    <tr>\n",
       "      <th>1459</th>\n",
       "      <td>1460</td>\n",
       "      <td>20</td>\n",
       "      <td>9937</td>\n",
       "      <td>5</td>\n",
       "      <td>6</td>\n",
       "      <td>1965</td>\n",
       "      <td>1965</td>\n",
       "      <td>1256</td>\n",
       "      <td>0</td>\n",
       "      <td>0</td>\n",
       "      <td>...</td>\n",
       "      <td>0</td>\n",
       "      <td>736</td>\n",
       "      <td>68</td>\n",
       "      <td>0</td>\n",
       "      <td>0</td>\n",
       "      <td>0</td>\n",
       "      <td>0</td>\n",
       "      <td>0</td>\n",
       "      <td>6</td>\n",
       "      <td>2008</td>\n",
       "    </tr>\n",
       "  </tbody>\n",
       "</table>\n",
       "<p>1460 rows × 26 columns</p>\n",
       "</div>"
      ],
      "text/plain": [
       "        Id  MSSubClass  LotArea  OverallQual  OverallCond  YearBuilt  \\\n",
       "0        1          60     8450            7            5       2003   \n",
       "1        2          20     9600            6            8       1976   \n",
       "2        3          60    11250            7            5       2001   \n",
       "3        4          70     9550            7            5       1915   \n",
       "4        5          60    14260            8            5       2000   \n",
       "...    ...         ...      ...          ...          ...        ...   \n",
       "1455  1456          60     7917            6            5       1999   \n",
       "1456  1457          20    13175            6            6       1978   \n",
       "1457  1458          70     9042            7            9       1941   \n",
       "1458  1459          20     9717            5            6       1950   \n",
       "1459  1460          20     9937            5            6       1965   \n",
       "\n",
       "      YearRemodAdd  1stFlrSF  2ndFlrSF  LowQualFinSF  ...  Fireplaces  \\\n",
       "0             2003       856       854             0  ...           0   \n",
       "1             1976      1262         0             0  ...           1   \n",
       "2             2002       920       866             0  ...           1   \n",
       "3             1970       961       756             0  ...           1   \n",
       "4             2000      1145      1053             0  ...           1   \n",
       "...            ...       ...       ...           ...  ...         ...   \n",
       "1455          2000       953       694             0  ...           1   \n",
       "1456          1988      2073         0             0  ...           2   \n",
       "1457          2006      1188      1152             0  ...           2   \n",
       "1458          1996      1078         0             0  ...           0   \n",
       "1459          1965      1256         0             0  ...           0   \n",
       "\n",
       "      WoodDeckSF  OpenPorchSF  EnclosedPorch  3SsnPorch  ScreenPorch  \\\n",
       "0              0           61              0          0            0   \n",
       "1            298            0              0          0            0   \n",
       "2              0           42              0          0            0   \n",
       "3              0           35            272          0            0   \n",
       "4            192           84              0          0            0   \n",
       "...          ...          ...            ...        ...          ...   \n",
       "1455           0           40              0          0            0   \n",
       "1456         349            0              0          0            0   \n",
       "1457           0           60              0          0            0   \n",
       "1458         366            0            112          0            0   \n",
       "1459         736           68              0          0            0   \n",
       "\n",
       "      PoolArea  MiscVal  MoSold  YrSold  \n",
       "0            0        0       2    2008  \n",
       "1            0        0       5    2007  \n",
       "2            0        0       9    2008  \n",
       "3            0        0       2    2006  \n",
       "4            0        0      12    2008  \n",
       "...        ...      ...     ...     ...  \n",
       "1455         0        0       8    2007  \n",
       "1456         0        0       2    2010  \n",
       "1457         0     2500       5    2010  \n",
       "1458         0        0       4    2010  \n",
       "1459         0        0       6    2008  \n",
       "\n",
       "[1460 rows x 26 columns]"
      ]
     },
     "execution_count": 44,
     "metadata": {},
     "output_type": "execute_result"
    }
   ],
   "source": [
    "X_encoded"
   ]
  },
  {
   "cell_type": "code",
   "execution_count": 45,
   "id": "379a584e",
   "metadata": {
    "execution": {
     "iopub.execute_input": "2024-06-14T08:20:30.249249Z",
     "iopub.status.busy": "2024-06-14T08:20:30.248811Z",
     "iopub.status.idle": "2024-06-14T08:20:30.255726Z",
     "shell.execute_reply": "2024-06-14T08:20:30.254624Z"
    },
    "papermill": {
     "duration": 0.031681,
     "end_time": "2024-06-14T08:20:30.257771",
     "exception": false,
     "start_time": "2024-06-14T08:20:30.226090",
     "status": "completed"
    },
    "tags": []
   },
   "outputs": [
    {
     "data": {
      "text/plain": [
       "((1460, 26), (1459, 26))"
      ]
     },
     "execution_count": 45,
     "metadata": {},
     "output_type": "execute_result"
    }
   ],
   "source": [
    "X_encoded.shape,test_encoded.shape"
   ]
  },
  {
   "cell_type": "code",
   "execution_count": 46,
   "id": "02069b87",
   "metadata": {
    "execution": {
     "iopub.execute_input": "2024-06-14T08:20:30.302858Z",
     "iopub.status.busy": "2024-06-14T08:20:30.301909Z",
     "iopub.status.idle": "2024-06-14T08:20:30.306578Z",
     "shell.execute_reply": "2024-06-14T08:20:30.305631Z"
    },
    "papermill": {
     "duration": 0.029172,
     "end_time": "2024-06-14T08:20:30.308745",
     "exception": false,
     "start_time": "2024-06-14T08:20:30.279573",
     "status": "completed"
    },
    "tags": []
   },
   "outputs": [],
   "source": [
    "from sklearn.preprocessing import MinMaxScaler"
   ]
  },
  {
   "cell_type": "code",
   "execution_count": 47,
   "id": "f7e4d102",
   "metadata": {
    "execution": {
     "iopub.execute_input": "2024-06-14T08:20:30.352467Z",
     "iopub.status.busy": "2024-06-14T08:20:30.352052Z",
     "iopub.status.idle": "2024-06-14T08:20:30.364642Z",
     "shell.execute_reply": "2024-06-14T08:20:30.363663Z"
    },
    "papermill": {
     "duration": 0.036722,
     "end_time": "2024-06-14T08:20:30.366747",
     "exception": false,
     "start_time": "2024-06-14T08:20:30.330025",
     "status": "completed"
    },
    "tags": []
   },
   "outputs": [],
   "source": [
    "scaler=MinMaxScaler()\n",
    "X_encoded_scaled=scaler.fit_transform(X_encoded)\n",
    "test_encoded_scaled=scaler.fit_transform(test_encoded)"
   ]
  },
  {
   "cell_type": "code",
   "execution_count": 48,
   "id": "0c1fbef9",
   "metadata": {
    "execution": {
     "iopub.execute_input": "2024-06-14T08:20:30.411679Z",
     "iopub.status.busy": "2024-06-14T08:20:30.410516Z",
     "iopub.status.idle": "2024-06-14T08:20:30.417796Z",
     "shell.execute_reply": "2024-06-14T08:20:30.416833Z"
    },
    "papermill": {
     "duration": 0.031636,
     "end_time": "2024-06-14T08:20:30.419833",
     "exception": false,
     "start_time": "2024-06-14T08:20:30.388197",
     "status": "completed"
    },
    "tags": []
   },
   "outputs": [
    {
     "data": {
      "text/plain": [
       "((1460, 26), (1460, 26), (1459, 26), (1459, 26))"
      ]
     },
     "execution_count": 48,
     "metadata": {},
     "output_type": "execute_result"
    }
   ],
   "source": [
    "X_encoded_scaled.shape,X_encoded.shape,test_encoded_scaled.shape,test_encoded.shape"
   ]
  },
  {
   "cell_type": "code",
   "execution_count": 49,
   "id": "aa2f29f8",
   "metadata": {
    "execution": {
     "iopub.execute_input": "2024-06-14T08:20:30.464030Z",
     "iopub.status.busy": "2024-06-14T08:20:30.463670Z",
     "iopub.status.idle": "2024-06-14T08:20:30.482730Z",
     "shell.execute_reply": "2024-06-14T08:20:30.481750Z"
    },
    "papermill": {
     "duration": 0.044866,
     "end_time": "2024-06-14T08:20:30.486076",
     "exception": false,
     "start_time": "2024-06-14T08:20:30.441210",
     "status": "completed"
    },
    "tags": []
   },
   "outputs": [
    {
     "data": {
      "text/html": [
       "<div>\n",
       "<style scoped>\n",
       "    .dataframe tbody tr th:only-of-type {\n",
       "        vertical-align: middle;\n",
       "    }\n",
       "\n",
       "    .dataframe tbody tr th {\n",
       "        vertical-align: top;\n",
       "    }\n",
       "\n",
       "    .dataframe thead th {\n",
       "        text-align: right;\n",
       "    }\n",
       "</style>\n",
       "<table border=\"1\" class=\"dataframe\">\n",
       "  <thead>\n",
       "    <tr style=\"text-align: right;\">\n",
       "      <th></th>\n",
       "      <th>Id</th>\n",
       "      <th>MSSubClass</th>\n",
       "      <th>LotArea</th>\n",
       "      <th>OverallQual</th>\n",
       "      <th>OverallCond</th>\n",
       "      <th>YearBuilt</th>\n",
       "      <th>YearRemodAdd</th>\n",
       "      <th>1stFlrSF</th>\n",
       "      <th>2ndFlrSF</th>\n",
       "      <th>LowQualFinSF</th>\n",
       "      <th>...</th>\n",
       "      <th>Fireplaces</th>\n",
       "      <th>WoodDeckSF</th>\n",
       "      <th>OpenPorchSF</th>\n",
       "      <th>EnclosedPorch</th>\n",
       "      <th>3SsnPorch</th>\n",
       "      <th>ScreenPorch</th>\n",
       "      <th>PoolArea</th>\n",
       "      <th>MiscVal</th>\n",
       "      <th>MoSold</th>\n",
       "      <th>YrSold</th>\n",
       "    </tr>\n",
       "  </thead>\n",
       "  <tbody>\n",
       "    <tr>\n",
       "      <th>0</th>\n",
       "      <td>1</td>\n",
       "      <td>60</td>\n",
       "      <td>8450</td>\n",
       "      <td>7</td>\n",
       "      <td>5</td>\n",
       "      <td>2003</td>\n",
       "      <td>2003</td>\n",
       "      <td>856</td>\n",
       "      <td>854</td>\n",
       "      <td>0</td>\n",
       "      <td>...</td>\n",
       "      <td>0</td>\n",
       "      <td>0</td>\n",
       "      <td>61</td>\n",
       "      <td>0</td>\n",
       "      <td>0</td>\n",
       "      <td>0</td>\n",
       "      <td>0</td>\n",
       "      <td>0</td>\n",
       "      <td>2</td>\n",
       "      <td>2008</td>\n",
       "    </tr>\n",
       "    <tr>\n",
       "      <th>1</th>\n",
       "      <td>2</td>\n",
       "      <td>20</td>\n",
       "      <td>9600</td>\n",
       "      <td>6</td>\n",
       "      <td>8</td>\n",
       "      <td>1976</td>\n",
       "      <td>1976</td>\n",
       "      <td>1262</td>\n",
       "      <td>0</td>\n",
       "      <td>0</td>\n",
       "      <td>...</td>\n",
       "      <td>1</td>\n",
       "      <td>298</td>\n",
       "      <td>0</td>\n",
       "      <td>0</td>\n",
       "      <td>0</td>\n",
       "      <td>0</td>\n",
       "      <td>0</td>\n",
       "      <td>0</td>\n",
       "      <td>5</td>\n",
       "      <td>2007</td>\n",
       "    </tr>\n",
       "    <tr>\n",
       "      <th>2</th>\n",
       "      <td>3</td>\n",
       "      <td>60</td>\n",
       "      <td>11250</td>\n",
       "      <td>7</td>\n",
       "      <td>5</td>\n",
       "      <td>2001</td>\n",
       "      <td>2002</td>\n",
       "      <td>920</td>\n",
       "      <td>866</td>\n",
       "      <td>0</td>\n",
       "      <td>...</td>\n",
       "      <td>1</td>\n",
       "      <td>0</td>\n",
       "      <td>42</td>\n",
       "      <td>0</td>\n",
       "      <td>0</td>\n",
       "      <td>0</td>\n",
       "      <td>0</td>\n",
       "      <td>0</td>\n",
       "      <td>9</td>\n",
       "      <td>2008</td>\n",
       "    </tr>\n",
       "    <tr>\n",
       "      <th>3</th>\n",
       "      <td>4</td>\n",
       "      <td>70</td>\n",
       "      <td>9550</td>\n",
       "      <td>7</td>\n",
       "      <td>5</td>\n",
       "      <td>1915</td>\n",
       "      <td>1970</td>\n",
       "      <td>961</td>\n",
       "      <td>756</td>\n",
       "      <td>0</td>\n",
       "      <td>...</td>\n",
       "      <td>1</td>\n",
       "      <td>0</td>\n",
       "      <td>35</td>\n",
       "      <td>272</td>\n",
       "      <td>0</td>\n",
       "      <td>0</td>\n",
       "      <td>0</td>\n",
       "      <td>0</td>\n",
       "      <td>2</td>\n",
       "      <td>2006</td>\n",
       "    </tr>\n",
       "    <tr>\n",
       "      <th>4</th>\n",
       "      <td>5</td>\n",
       "      <td>60</td>\n",
       "      <td>14260</td>\n",
       "      <td>8</td>\n",
       "      <td>5</td>\n",
       "      <td>2000</td>\n",
       "      <td>2000</td>\n",
       "      <td>1145</td>\n",
       "      <td>1053</td>\n",
       "      <td>0</td>\n",
       "      <td>...</td>\n",
       "      <td>1</td>\n",
       "      <td>192</td>\n",
       "      <td>84</td>\n",
       "      <td>0</td>\n",
       "      <td>0</td>\n",
       "      <td>0</td>\n",
       "      <td>0</td>\n",
       "      <td>0</td>\n",
       "      <td>12</td>\n",
       "      <td>2008</td>\n",
       "    </tr>\n",
       "    <tr>\n",
       "      <th>...</th>\n",
       "      <td>...</td>\n",
       "      <td>...</td>\n",
       "      <td>...</td>\n",
       "      <td>...</td>\n",
       "      <td>...</td>\n",
       "      <td>...</td>\n",
       "      <td>...</td>\n",
       "      <td>...</td>\n",
       "      <td>...</td>\n",
       "      <td>...</td>\n",
       "      <td>...</td>\n",
       "      <td>...</td>\n",
       "      <td>...</td>\n",
       "      <td>...</td>\n",
       "      <td>...</td>\n",
       "      <td>...</td>\n",
       "      <td>...</td>\n",
       "      <td>...</td>\n",
       "      <td>...</td>\n",
       "      <td>...</td>\n",
       "      <td>...</td>\n",
       "    </tr>\n",
       "    <tr>\n",
       "      <th>1455</th>\n",
       "      <td>1456</td>\n",
       "      <td>60</td>\n",
       "      <td>7917</td>\n",
       "      <td>6</td>\n",
       "      <td>5</td>\n",
       "      <td>1999</td>\n",
       "      <td>2000</td>\n",
       "      <td>953</td>\n",
       "      <td>694</td>\n",
       "      <td>0</td>\n",
       "      <td>...</td>\n",
       "      <td>1</td>\n",
       "      <td>0</td>\n",
       "      <td>40</td>\n",
       "      <td>0</td>\n",
       "      <td>0</td>\n",
       "      <td>0</td>\n",
       "      <td>0</td>\n",
       "      <td>0</td>\n",
       "      <td>8</td>\n",
       "      <td>2007</td>\n",
       "    </tr>\n",
       "    <tr>\n",
       "      <th>1456</th>\n",
       "      <td>1457</td>\n",
       "      <td>20</td>\n",
       "      <td>13175</td>\n",
       "      <td>6</td>\n",
       "      <td>6</td>\n",
       "      <td>1978</td>\n",
       "      <td>1988</td>\n",
       "      <td>2073</td>\n",
       "      <td>0</td>\n",
       "      <td>0</td>\n",
       "      <td>...</td>\n",
       "      <td>2</td>\n",
       "      <td>349</td>\n",
       "      <td>0</td>\n",
       "      <td>0</td>\n",
       "      <td>0</td>\n",
       "      <td>0</td>\n",
       "      <td>0</td>\n",
       "      <td>0</td>\n",
       "      <td>2</td>\n",
       "      <td>2010</td>\n",
       "    </tr>\n",
       "    <tr>\n",
       "      <th>1457</th>\n",
       "      <td>1458</td>\n",
       "      <td>70</td>\n",
       "      <td>9042</td>\n",
       "      <td>7</td>\n",
       "      <td>9</td>\n",
       "      <td>1941</td>\n",
       "      <td>2006</td>\n",
       "      <td>1188</td>\n",
       "      <td>1152</td>\n",
       "      <td>0</td>\n",
       "      <td>...</td>\n",
       "      <td>2</td>\n",
       "      <td>0</td>\n",
       "      <td>60</td>\n",
       "      <td>0</td>\n",
       "      <td>0</td>\n",
       "      <td>0</td>\n",
       "      <td>0</td>\n",
       "      <td>2500</td>\n",
       "      <td>5</td>\n",
       "      <td>2010</td>\n",
       "    </tr>\n",
       "    <tr>\n",
       "      <th>1458</th>\n",
       "      <td>1459</td>\n",
       "      <td>20</td>\n",
       "      <td>9717</td>\n",
       "      <td>5</td>\n",
       "      <td>6</td>\n",
       "      <td>1950</td>\n",
       "      <td>1996</td>\n",
       "      <td>1078</td>\n",
       "      <td>0</td>\n",
       "      <td>0</td>\n",
       "      <td>...</td>\n",
       "      <td>0</td>\n",
       "      <td>366</td>\n",
       "      <td>0</td>\n",
       "      <td>112</td>\n",
       "      <td>0</td>\n",
       "      <td>0</td>\n",
       "      <td>0</td>\n",
       "      <td>0</td>\n",
       "      <td>4</td>\n",
       "      <td>2010</td>\n",
       "    </tr>\n",
       "    <tr>\n",
       "      <th>1459</th>\n",
       "      <td>1460</td>\n",
       "      <td>20</td>\n",
       "      <td>9937</td>\n",
       "      <td>5</td>\n",
       "      <td>6</td>\n",
       "      <td>1965</td>\n",
       "      <td>1965</td>\n",
       "      <td>1256</td>\n",
       "      <td>0</td>\n",
       "      <td>0</td>\n",
       "      <td>...</td>\n",
       "      <td>0</td>\n",
       "      <td>736</td>\n",
       "      <td>68</td>\n",
       "      <td>0</td>\n",
       "      <td>0</td>\n",
       "      <td>0</td>\n",
       "      <td>0</td>\n",
       "      <td>0</td>\n",
       "      <td>6</td>\n",
       "      <td>2008</td>\n",
       "    </tr>\n",
       "  </tbody>\n",
       "</table>\n",
       "<p>1460 rows × 26 columns</p>\n",
       "</div>"
      ],
      "text/plain": [
       "        Id  MSSubClass  LotArea  OverallQual  OverallCond  YearBuilt  \\\n",
       "0        1          60     8450            7            5       2003   \n",
       "1        2          20     9600            6            8       1976   \n",
       "2        3          60    11250            7            5       2001   \n",
       "3        4          70     9550            7            5       1915   \n",
       "4        5          60    14260            8            5       2000   \n",
       "...    ...         ...      ...          ...          ...        ...   \n",
       "1455  1456          60     7917            6            5       1999   \n",
       "1456  1457          20    13175            6            6       1978   \n",
       "1457  1458          70     9042            7            9       1941   \n",
       "1458  1459          20     9717            5            6       1950   \n",
       "1459  1460          20     9937            5            6       1965   \n",
       "\n",
       "      YearRemodAdd  1stFlrSF  2ndFlrSF  LowQualFinSF  ...  Fireplaces  \\\n",
       "0             2003       856       854             0  ...           0   \n",
       "1             1976      1262         0             0  ...           1   \n",
       "2             2002       920       866             0  ...           1   \n",
       "3             1970       961       756             0  ...           1   \n",
       "4             2000      1145      1053             0  ...           1   \n",
       "...            ...       ...       ...           ...  ...         ...   \n",
       "1455          2000       953       694             0  ...           1   \n",
       "1456          1988      2073         0             0  ...           2   \n",
       "1457          2006      1188      1152             0  ...           2   \n",
       "1458          1996      1078         0             0  ...           0   \n",
       "1459          1965      1256         0             0  ...           0   \n",
       "\n",
       "      WoodDeckSF  OpenPorchSF  EnclosedPorch  3SsnPorch  ScreenPorch  \\\n",
       "0              0           61              0          0            0   \n",
       "1            298            0              0          0            0   \n",
       "2              0           42              0          0            0   \n",
       "3              0           35            272          0            0   \n",
       "4            192           84              0          0            0   \n",
       "...          ...          ...            ...        ...          ...   \n",
       "1455           0           40              0          0            0   \n",
       "1456         349            0              0          0            0   \n",
       "1457           0           60              0          0            0   \n",
       "1458         366            0            112          0            0   \n",
       "1459         736           68              0          0            0   \n",
       "\n",
       "      PoolArea  MiscVal  MoSold  YrSold  \n",
       "0            0        0       2    2008  \n",
       "1            0        0       5    2007  \n",
       "2            0        0       9    2008  \n",
       "3            0        0       2    2006  \n",
       "4            0        0      12    2008  \n",
       "...        ...      ...     ...     ...  \n",
       "1455         0        0       8    2007  \n",
       "1456         0        0       2    2010  \n",
       "1457         0     2500       5    2010  \n",
       "1458         0        0       4    2010  \n",
       "1459         0        0       6    2008  \n",
       "\n",
       "[1460 rows x 26 columns]"
      ]
     },
     "execution_count": 49,
     "metadata": {},
     "output_type": "execute_result"
    }
   ],
   "source": [
    "X_encoded"
   ]
  },
  {
   "cell_type": "code",
   "execution_count": 50,
   "id": "fb5d60f2",
   "metadata": {
    "execution": {
     "iopub.execute_input": "2024-06-14T08:20:30.539649Z",
     "iopub.status.busy": "2024-06-14T08:20:30.538768Z",
     "iopub.status.idle": "2024-06-14T08:20:30.628638Z",
     "shell.execute_reply": "2024-06-14T08:20:30.627679Z"
    },
    "papermill": {
     "duration": 0.115279,
     "end_time": "2024-06-14T08:20:30.631045",
     "exception": false,
     "start_time": "2024-06-14T08:20:30.515766",
     "status": "completed"
    },
    "tags": []
   },
   "outputs": [],
   "source": [
    "from sklearn.model_selection import train_test_split"
   ]
  },
  {
   "cell_type": "code",
   "execution_count": 51,
   "id": "f6374c4b",
   "metadata": {
    "execution": {
     "iopub.execute_input": "2024-06-14T08:20:30.691367Z",
     "iopub.status.busy": "2024-06-14T08:20:30.689788Z",
     "iopub.status.idle": "2024-06-14T08:20:30.699760Z",
     "shell.execute_reply": "2024-06-14T08:20:30.698002Z"
    },
    "papermill": {
     "duration": 0.047273,
     "end_time": "2024-06-14T08:20:30.702443",
     "exception": false,
     "start_time": "2024-06-14T08:20:30.655170",
     "status": "completed"
    },
    "tags": []
   },
   "outputs": [],
   "source": [
    "X_train,X_valid,y_train,y_valid=train_test_split(X_encoded_scaled,y,test_size=0.2,random_state=1)"
   ]
  },
  {
   "cell_type": "code",
   "execution_count": 52,
   "id": "d2c3d719",
   "metadata": {
    "execution": {
     "iopub.execute_input": "2024-06-14T08:20:30.754584Z",
     "iopub.status.busy": "2024-06-14T08:20:30.753905Z",
     "iopub.status.idle": "2024-06-14T08:20:30.760646Z",
     "shell.execute_reply": "2024-06-14T08:20:30.759364Z"
    },
    "papermill": {
     "duration": 0.031769,
     "end_time": "2024-06-14T08:20:30.762613",
     "exception": false,
     "start_time": "2024-06-14T08:20:30.730844",
     "status": "completed"
    },
    "tags": []
   },
   "outputs": [
    {
     "data": {
      "text/plain": [
       "1168"
      ]
     },
     "execution_count": 52,
     "metadata": {},
     "output_type": "execute_result"
    }
   ],
   "source": [
    "len(X_train)"
   ]
  },
  {
   "cell_type": "code",
   "execution_count": 53,
   "id": "66251b64",
   "metadata": {
    "execution": {
     "iopub.execute_input": "2024-06-14T08:20:30.808257Z",
     "iopub.status.busy": "2024-06-14T08:20:30.807344Z",
     "iopub.status.idle": "2024-06-14T08:20:30.813958Z",
     "shell.execute_reply": "2024-06-14T08:20:30.813009Z"
    },
    "papermill": {
     "duration": 0.031471,
     "end_time": "2024-06-14T08:20:30.815944",
     "exception": false,
     "start_time": "2024-06-14T08:20:30.784473",
     "status": "completed"
    },
    "tags": []
   },
   "outputs": [
    {
     "data": {
      "text/plain": [
       "(1168, 292, 1168, 292)"
      ]
     },
     "execution_count": 53,
     "metadata": {},
     "output_type": "execute_result"
    }
   ],
   "source": [
    "len(X_train),len(X_valid),len(y_train),len(y_valid)"
   ]
  },
  {
   "cell_type": "code",
   "execution_count": 54,
   "id": "35609252",
   "metadata": {
    "execution": {
     "iopub.execute_input": "2024-06-14T08:20:30.861838Z",
     "iopub.status.busy": "2024-06-14T08:20:30.860857Z",
     "iopub.status.idle": "2024-06-14T08:20:30.866917Z",
     "shell.execute_reply": "2024-06-14T08:20:30.866006Z"
    },
    "papermill": {
     "duration": 0.031097,
     "end_time": "2024-06-14T08:20:30.868876",
     "exception": false,
     "start_time": "2024-06-14T08:20:30.837779",
     "status": "completed"
    },
    "tags": []
   },
   "outputs": [
    {
     "data": {
      "text/plain": [
       "((292, 26), (1459, 26))"
      ]
     },
     "execution_count": 54,
     "metadata": {},
     "output_type": "execute_result"
    }
   ],
   "source": [
    "X_valid.shape,test_encoded.shape"
   ]
  },
  {
   "cell_type": "code",
   "execution_count": 55,
   "id": "1494d961",
   "metadata": {
    "execution": {
     "iopub.execute_input": "2024-06-14T08:20:30.915248Z",
     "iopub.status.busy": "2024-06-14T08:20:30.914228Z",
     "iopub.status.idle": "2024-06-14T08:20:31.019271Z",
     "shell.execute_reply": "2024-06-14T08:20:31.018012Z"
    },
    "papermill": {
     "duration": 0.131366,
     "end_time": "2024-06-14T08:20:31.022269",
     "exception": false,
     "start_time": "2024-06-14T08:20:30.890903",
     "status": "completed"
    },
    "tags": []
   },
   "outputs": [],
   "source": [
    "from sklearn.linear_model import LinearRegression\n",
    "model_1=LinearRegression()\n",
    "model_1.fit(X_train,y_train)\n",
    "y_predict=model_1.predict(X_valid)"
   ]
  },
  {
   "cell_type": "code",
   "execution_count": 56,
   "id": "97cc0c18",
   "metadata": {
    "execution": {
     "iopub.execute_input": "2024-06-14T08:20:31.099613Z",
     "iopub.status.busy": "2024-06-14T08:20:31.099081Z",
     "iopub.status.idle": "2024-06-14T08:20:31.104614Z",
     "shell.execute_reply": "2024-06-14T08:20:31.103518Z"
    },
    "papermill": {
     "duration": 0.048302,
     "end_time": "2024-06-14T08:20:31.107700",
     "exception": false,
     "start_time": "2024-06-14T08:20:31.059398",
     "status": "completed"
    },
    "tags": []
   },
   "outputs": [],
   "source": [
    "from sklearn.metrics import mean_absolute_error as mae"
   ]
  },
  {
   "cell_type": "code",
   "execution_count": 57,
   "id": "39e962fe",
   "metadata": {
    "execution": {
     "iopub.execute_input": "2024-06-14T08:20:31.165029Z",
     "iopub.status.busy": "2024-06-14T08:20:31.164358Z",
     "iopub.status.idle": "2024-06-14T08:20:31.171622Z",
     "shell.execute_reply": "2024-06-14T08:20:31.170519Z"
    },
    "papermill": {
     "duration": 0.033355,
     "end_time": "2024-06-14T08:20:31.173732",
     "exception": false,
     "start_time": "2024-06-14T08:20:31.140377",
     "status": "completed"
    },
    "tags": []
   },
   "outputs": [
    {
     "data": {
      "text/plain": [
       "23344.054949826867"
      ]
     },
     "execution_count": 57,
     "metadata": {},
     "output_type": "execute_result"
    }
   ],
   "source": [
    "mae(y_predict,y_valid)"
   ]
  },
  {
   "cell_type": "code",
   "execution_count": 58,
   "id": "00dba826",
   "metadata": {
    "execution": {
     "iopub.execute_input": "2024-06-14T08:20:31.219927Z",
     "iopub.status.busy": "2024-06-14T08:20:31.218999Z",
     "iopub.status.idle": "2024-06-14T08:20:31.226533Z",
     "shell.execute_reply": "2024-06-14T08:20:31.225608Z"
    },
    "papermill": {
     "duration": 0.03256,
     "end_time": "2024-06-14T08:20:31.228442",
     "exception": false,
     "start_time": "2024-06-14T08:20:31.195882",
     "status": "completed"
    },
    "tags": []
   },
   "outputs": [
    {
     "data": {
      "text/plain": [
       "258     231500\n",
       "267     179500\n",
       "288     122000\n",
       "649      84500\n",
       "1233    142000\n",
       "         ...  \n",
       "163     103200\n",
       "47      249700\n",
       "1432     64500\n",
       "98       83000\n",
       "409     339750\n",
       "Name: SalePrice, Length: 292, dtype: int64"
      ]
     },
     "execution_count": 58,
     "metadata": {},
     "output_type": "execute_result"
    }
   ],
   "source": [
    "y_valid"
   ]
  },
  {
   "cell_type": "code",
   "execution_count": 59,
   "id": "521b270a",
   "metadata": {
    "execution": {
     "iopub.execute_input": "2024-06-14T08:20:31.274540Z",
     "iopub.status.busy": "2024-06-14T08:20:31.274159Z",
     "iopub.status.idle": "2024-06-14T08:20:31.283475Z",
     "shell.execute_reply": "2024-06-14T08:20:31.282506Z"
    },
    "papermill": {
     "duration": 0.034776,
     "end_time": "2024-06-14T08:20:31.285494",
     "exception": false,
     "start_time": "2024-06-14T08:20:31.250718",
     "status": "completed"
    },
    "tags": []
   },
   "outputs": [
    {
     "data": {
      "text/plain": [
       "array([224367.40001311, 180179.41229174, 102865.19494217,  56340.64998496,\n",
       "       122019.72022849, 285004.67598733, 285744.85737726, 156823.7439542 ,\n",
       "       226413.28261563, 250029.76727942, 197035.08898561,  -8597.93410737,\n",
       "       230657.23334443, 349313.49123226, 223477.30007689, 117073.98761234,\n",
       "       100665.06733156, 128973.87907188, 233898.01457712, 139147.93660381,\n",
       "       120236.2875233 , 104798.21434518, 237332.83530916, 308295.37980103,\n",
       "        91266.09033821, 207753.45534743, 135529.81401791, 206367.21403783,\n",
       "       370160.22167412, 128237.40664582, 140590.85582212, 135834.25398966,\n",
       "       113996.71086388,  45708.72676526, 132265.14874988, 321755.72547344,\n",
       "       141589.28906672,  68381.29440693, 265358.90027726, 106431.0405714 ,\n",
       "       169005.78638106, 157420.6023755 , 100373.5063968 , 109025.60883863,\n",
       "       197154.72578609, 196977.79210596, 143632.70418724, 218483.36030193,\n",
       "       247956.74576368, 275073.18417205, 100579.92845398, 297177.6178567 ,\n",
       "        91962.33793599, 253599.77848814, 209858.38781547,  94204.74473871,\n",
       "       108933.59852037, 202644.06650083, 120748.8498958 , 193893.37773929,\n",
       "       182677.7995053 , 284961.09631847,  78256.98394358, 127029.392296  ,\n",
       "       166698.76772969, 130428.6162273 , 144576.1656046 , 241012.54768371,\n",
       "       149955.53974662, 157300.06167459, 267732.96709349,  66812.26921961,\n",
       "       292743.4078253 , 171817.57362178, 170335.2623007 , 216266.12491072,\n",
       "       197915.02977989, 145774.68870804, 391026.38300837, 207132.15641241,\n",
       "       219335.05761052, 121249.38960429, 109997.55322461, 147746.00456551,\n",
       "       221584.8143176 , 171305.09417119, 161159.41509237, 168255.32409933,\n",
       "       231851.69268327, 188345.93958383, 217384.84121483,  87706.31133227,\n",
       "        89516.841171  ,  98428.5887771 , 108847.05380496, 126418.46716046,\n",
       "       112273.46743453, 136420.92723999, 157608.96392079, 162705.64386133,\n",
       "       167397.72691043, 129019.23219041,  86231.45075187,  83989.15747472,\n",
       "       136708.88584444, 183029.2989724 , 194315.39287235, 173040.47865412,\n",
       "       143276.06265588, 305052.30533851, 144744.99837582, 193453.04301007,\n",
       "       149907.28967081, 213734.11517529, 249393.04868715, 192516.00641811,\n",
       "       242787.37352105, 124844.65376086, 163376.69248381, 284368.24295054,\n",
       "       122964.20119461, 249178.65457642, 299166.97342914, 181910.31976762,\n",
       "       225839.03835455, 175872.52092544, 303541.51822517, 103526.30330736,\n",
       "       209232.32767712, 216279.87810696, 266309.99935746,  50126.47798285,\n",
       "       121688.66735204, 113985.00079314,  77474.60448249, 197782.44459718,\n",
       "       408902.33025595, 303133.44423974, 243783.89520969, 144826.86460863,\n",
       "       137763.87388175, 296733.44424988, 198016.15081808, 230329.79409659,\n",
       "        69202.00316135, 231776.84629372, 108488.30969313, 210501.0654996 ,\n",
       "       233202.54547271, 118461.68730385, 206685.91922444, 167759.18916834,\n",
       "       104326.7550138 , 191618.57518255, 189975.40763167, 307076.20198311,\n",
       "        65179.41301222, 126432.65312608,  85338.31203893, 123489.19309155,\n",
       "        27424.11463825,  98603.50706914, 156329.11804676, 132043.34271181,\n",
       "       135522.68549959, 121847.59505266, 145103.95767455, 132459.01523791,\n",
       "       135075.33987677,  86451.9733535 , 236835.22737467, 165753.03333388,\n",
       "       231600.13323968, 269021.71867881, 199721.98856225, 109273.3925301 ,\n",
       "       204019.83763204, 192883.90065582, 117806.06630199, 186526.48977009,\n",
       "       104654.6937841 , 216045.41360689, 141272.61324629, 135555.83050647,\n",
       "       273048.66081919, 135322.34100418, 289974.90572314, 284338.49666718,\n",
       "       146310.04925493, 131015.1599033 ,  92564.9617671 , 130826.30007445,\n",
       "       111682.56368769, 216281.61372406,  99866.79992508, 279555.54866972,\n",
       "       227161.16696628, 161723.20757539, 163525.19227299,  77785.10288312,\n",
       "       212304.76956258, 234018.4803394 , 178237.9055715 , 189744.75049895,\n",
       "       259247.23169815, 115777.71275591, 205418.1344105 , 282353.13291179,\n",
       "       291078.79088516, 282660.0183223 , 223260.69851089, 108856.0684039 ,\n",
       "       160324.10461446,  97116.6274323 , 269671.46527676, 268101.55580735,\n",
       "       105884.15443676,  54747.60004238, 185634.68820448,  73968.97944794,\n",
       "       360694.72583468, 110814.39387101, 149931.49499791, 211561.79321956,\n",
       "       103713.9604056 ,  95993.70813134, 217179.33316726, 185184.69379304,\n",
       "       143958.04894313, 208194.85804459, 133553.6521975 , 196201.95827059,\n",
       "        79220.85400543, 115975.06643034, 288013.87710561, 136572.92505138,\n",
       "       285580.38971365,  86813.45585256, 108755.68682803, 269486.87893189,\n",
       "       297905.43783619, 172449.57821846, 100349.43834571, 129608.99558262,\n",
       "        88738.87447722, 136811.80081261, 120299.89616132, 152304.65982329,\n",
       "       175206.96213255, 158047.20523149, 119549.01938703, 136394.12431959,\n",
       "       195276.16750181, 190277.17409618, 135793.67687958, 125783.22070511,\n",
       "       186186.19149732,  71126.21298241, 302844.11671096, 113426.29376139,\n",
       "       236857.65516252, 164218.92287227, 217994.38053532, 172371.29640503,\n",
       "       104972.63794266, 226748.31916999, 111985.33539904, 176631.3546217 ,\n",
       "       163858.8091236 , 112173.18484848, 208430.64466987, 187160.63397978,\n",
       "        69108.38261798, 124692.44878617, 201089.57624791, 120437.66477345,\n",
       "       101776.2042741 , 132886.01320748, 176332.66828577, 129752.20136921,\n",
       "       115029.75510076, 116067.77334818, 135995.94286704, 133462.74270525,\n",
       "       247031.52432557, 245703.50571036, 123289.33239059,  92280.60706757,\n",
       "       254623.87951364,  66253.57778153,  83704.51807717, 264398.48408256])"
      ]
     },
     "execution_count": 59,
     "metadata": {},
     "output_type": "execute_result"
    }
   ],
   "source": [
    "y_predict"
   ]
  },
  {
   "cell_type": "markdown",
   "id": "f8c77e53",
   "metadata": {
    "papermill": {
     "duration": 0.022079,
     "end_time": "2024-06-14T08:20:31.330026",
     "exception": false,
     "start_time": "2024-06-14T08:20:31.307947",
     "status": "completed"
    },
    "tags": []
   },
   "source": [
    "### 1.Feature Engineering \n",
    "* Polynomial Features "
   ]
  },
  {
   "cell_type": "code",
   "execution_count": 60,
   "id": "ba1a5b16",
   "metadata": {
    "execution": {
     "iopub.execute_input": "2024-06-14T08:20:31.376582Z",
     "iopub.status.busy": "2024-06-14T08:20:31.375810Z",
     "iopub.status.idle": "2024-06-14T08:20:31.380571Z",
     "shell.execute_reply": "2024-06-14T08:20:31.379605Z"
    },
    "papermill": {
     "duration": 0.030669,
     "end_time": "2024-06-14T08:20:31.382841",
     "exception": false,
     "start_time": "2024-06-14T08:20:31.352172",
     "status": "completed"
    },
    "tags": []
   },
   "outputs": [],
   "source": [
    "from sklearn.preprocessing import PolynomialFeatures"
   ]
  },
  {
   "cell_type": "code",
   "execution_count": 61,
   "id": "6a5fa61e",
   "metadata": {
    "execution": {
     "iopub.execute_input": "2024-06-14T08:20:31.429122Z",
     "iopub.status.busy": "2024-06-14T08:20:31.428720Z",
     "iopub.status.idle": "2024-06-14T08:20:31.445967Z",
     "shell.execute_reply": "2024-06-14T08:20:31.445122Z"
    },
    "papermill": {
     "duration": 0.042898,
     "end_time": "2024-06-14T08:20:31.448237",
     "exception": false,
     "start_time": "2024-06-14T08:20:31.405339",
     "status": "completed"
    },
    "tags": []
   },
   "outputs": [],
   "source": [
    "poly=PolynomialFeatures(degree=2,include_bias=False)\n",
    "X_train_poly=poly.fit_transform(X_train)\n",
    "X_valid_poly=poly.transform(X_valid)\n",
    "test_poly=poly.transform(test_encoded_scaled)"
   ]
  },
  {
   "cell_type": "code",
   "execution_count": 62,
   "id": "7d7344ec",
   "metadata": {
    "execution": {
     "iopub.execute_input": "2024-06-14T08:20:31.494917Z",
     "iopub.status.busy": "2024-06-14T08:20:31.494008Z",
     "iopub.status.idle": "2024-06-14T08:20:31.573241Z",
     "shell.execute_reply": "2024-06-14T08:20:31.572089Z"
    },
    "papermill": {
     "duration": 0.105656,
     "end_time": "2024-06-14T08:20:31.576373",
     "exception": false,
     "start_time": "2024-06-14T08:20:31.470717",
     "status": "completed"
    },
    "tags": []
   },
   "outputs": [],
   "source": [
    "model_1.fit(X_train_poly,y_train)\n",
    "y_pred_1=model_1.predict(X_valid_poly)"
   ]
  },
  {
   "cell_type": "code",
   "execution_count": 63,
   "id": "c42b816e",
   "metadata": {
    "execution": {
     "iopub.execute_input": "2024-06-14T08:20:31.694408Z",
     "iopub.status.busy": "2024-06-14T08:20:31.693395Z",
     "iopub.status.idle": "2024-06-14T08:20:31.700261Z",
     "shell.execute_reply": "2024-06-14T08:20:31.699403Z"
    },
    "papermill": {
     "duration": 0.061874,
     "end_time": "2024-06-14T08:20:31.702169",
     "exception": false,
     "start_time": "2024-06-14T08:20:31.640295",
     "status": "completed"
    },
    "tags": []
   },
   "outputs": [
    {
     "data": {
      "text/plain": [
       "19438879658034.652"
      ]
     },
     "execution_count": 63,
     "metadata": {},
     "output_type": "execute_result"
    }
   ],
   "source": [
    "mae(y_valid,y_pred_1)"
   ]
  },
  {
   "cell_type": "markdown",
   "id": "25151c80",
   "metadata": {
    "papermill": {
     "duration": 0.022477,
     "end_time": "2024-06-14T08:20:31.747382",
     "exception": false,
     "start_time": "2024-06-14T08:20:31.724905",
     "status": "completed"
    },
    "tags": []
   },
   "source": [
    "By introducing polynomial features and interaction terms, your model can better capture the complexity of the relationships in your data, leading to a significant reduction in prediction error."
   ]
  },
  {
   "cell_type": "code",
   "execution_count": 64,
   "id": "a23fcca1",
   "metadata": {
    "execution": {
     "iopub.execute_input": "2024-06-14T08:20:31.793949Z",
     "iopub.status.busy": "2024-06-14T08:20:31.793600Z",
     "iopub.status.idle": "2024-06-14T08:20:31.800413Z",
     "shell.execute_reply": "2024-06-14T08:20:31.799383Z"
    },
    "papermill": {
     "duration": 0.032433,
     "end_time": "2024-06-14T08:20:31.802444",
     "exception": false,
     "start_time": "2024-06-14T08:20:31.770011",
     "status": "completed"
    },
    "tags": []
   },
   "outputs": [
    {
     "data": {
      "text/plain": [
       "array([[0.63125428, 0.41176471, 0.03494823, ..., 0.        , 0.72727273,\n",
       "        0.5       ],\n",
       "       [0.3564085 , 1.        , 0.04440394, ..., 0.        , 0.63636364,\n",
       "        0.5       ],\n",
       "       [0.27484578, 0.        , 0.03490149, ..., 0.        , 0.54545455,\n",
       "        0.        ],\n",
       "       ...,\n",
       "       [0.75119945, 0.29411765, 0.02609082, ..., 0.        , 0.18181818,\n",
       "        0.25      ],\n",
       "       [0.16106923, 0.82352941, 0.00177616, ..., 0.        , 0.63636364,\n",
       "        0.5       ],\n",
       "       [0.72721042, 0.05882353, 0.07805744, ..., 0.03612903, 0.63636364,\n",
       "        0.5       ]])"
      ]
     },
     "execution_count": 64,
     "metadata": {},
     "output_type": "execute_result"
    }
   ],
   "source": [
    "X_train"
   ]
  },
  {
   "cell_type": "markdown",
   "id": "87502ef9",
   "metadata": {
    "papermill": {
     "duration": 0.022585,
     "end_time": "2024-06-14T08:20:31.847817",
     "exception": false,
     "start_time": "2024-06-14T08:20:31.825232",
     "status": "completed"
    },
    "tags": []
   },
   "source": [
    "### Correlation Analysis"
   ]
  },
  {
   "cell_type": "code",
   "execution_count": 65,
   "id": "f25f2bf9",
   "metadata": {
    "execution": {
     "iopub.execute_input": "2024-06-14T08:20:31.898852Z",
     "iopub.status.busy": "2024-06-14T08:20:31.898505Z",
     "iopub.status.idle": "2024-06-14T08:20:31.905344Z",
     "shell.execute_reply": "2024-06-14T08:20:31.904313Z"
    },
    "papermill": {
     "duration": 0.036692,
     "end_time": "2024-06-14T08:20:31.907421",
     "exception": false,
     "start_time": "2024-06-14T08:20:31.870729",
     "status": "completed"
    },
    "tags": []
   },
   "outputs": [
    {
     "data": {
      "text/plain": [
       "array([[0.63125428, 0.41176471, 0.03494823, ..., 0.        , 0.72727273,\n",
       "        0.5       ],\n",
       "       [0.3564085 , 1.        , 0.04440394, ..., 0.        , 0.63636364,\n",
       "        0.5       ],\n",
       "       [0.27484578, 0.        , 0.03490149, ..., 0.        , 0.54545455,\n",
       "        0.        ],\n",
       "       ...,\n",
       "       [0.75119945, 0.29411765, 0.02609082, ..., 0.        , 0.18181818,\n",
       "        0.25      ],\n",
       "       [0.16106923, 0.82352941, 0.00177616, ..., 0.        , 0.63636364,\n",
       "        0.5       ],\n",
       "       [0.72721042, 0.05882353, 0.07805744, ..., 0.03612903, 0.63636364,\n",
       "        0.5       ]])"
      ]
     },
     "execution_count": 65,
     "metadata": {},
     "output_type": "execute_result"
    }
   ],
   "source": [
    "X_train"
   ]
  },
  {
   "cell_type": "markdown",
   "id": "100e3b50",
   "metadata": {
    "papermill": {
     "duration": 0.023441,
     "end_time": "2024-06-14T08:20:31.954114",
     "exception": false,
     "start_time": "2024-06-14T08:20:31.930673",
     "status": "completed"
    },
    "tags": []
   },
   "source": [
    "### 3.Variance Threshold\n",
    "* Remove features with low variance, as they provide little information to the model."
   ]
  },
  {
   "cell_type": "code",
   "execution_count": 66,
   "id": "719d1dd3",
   "metadata": {
    "execution": {
     "iopub.execute_input": "2024-06-14T08:20:32.015504Z",
     "iopub.status.busy": "2024-06-14T08:20:32.015125Z",
     "iopub.status.idle": "2024-06-14T08:20:32.087514Z",
     "shell.execute_reply": "2024-06-14T08:20:32.086533Z"
    },
    "papermill": {
     "duration": 0.108133,
     "end_time": "2024-06-14T08:20:32.089966",
     "exception": false,
     "start_time": "2024-06-14T08:20:31.981833",
     "status": "completed"
    },
    "tags": []
   },
   "outputs": [],
   "source": [
    "from sklearn.feature_selection import VarianceThreshold"
   ]
  },
  {
   "cell_type": "code",
   "execution_count": 67,
   "id": "b26258bd",
   "metadata": {
    "execution": {
     "iopub.execute_input": "2024-06-14T08:20:32.137706Z",
     "iopub.status.busy": "2024-06-14T08:20:32.136511Z",
     "iopub.status.idle": "2024-06-14T08:20:32.144769Z",
     "shell.execute_reply": "2024-06-14T08:20:32.143547Z"
    },
    "papermill": {
     "duration": 0.034128,
     "end_time": "2024-06-14T08:20:32.146839",
     "exception": false,
     "start_time": "2024-06-14T08:20:32.112711",
     "status": "completed"
    },
    "tags": []
   },
   "outputs": [],
   "source": [
    "selector=VarianceThreshold(threshold=0.01)\n",
    "X_train_var=selector.fit_transform(X_train)\n",
    "X_valid_var=selector.transform(X_valid)\n",
    "test_var=selector.transform(test_encoded_scaled)"
   ]
  },
  {
   "cell_type": "code",
   "execution_count": 68,
   "id": "83b45439",
   "metadata": {
    "execution": {
     "iopub.execute_input": "2024-06-14T08:20:32.194804Z",
     "iopub.status.busy": "2024-06-14T08:20:32.194004Z",
     "iopub.status.idle": "2024-06-14T08:20:32.202553Z",
     "shell.execute_reply": "2024-06-14T08:20:32.201395Z"
    },
    "papermill": {
     "duration": 0.037494,
     "end_time": "2024-06-14T08:20:32.207097",
     "exception": false,
     "start_time": "2024-06-14T08:20:32.169603",
     "status": "completed"
    },
    "tags": []
   },
   "outputs": [],
   "source": [
    "model_1.fit(X_train_var,y_train)\n",
    "y_pred_2=model_1.predict(X_valid_var)"
   ]
  },
  {
   "cell_type": "code",
   "execution_count": 69,
   "id": "2b374f5e",
   "metadata": {
    "execution": {
     "iopub.execute_input": "2024-06-14T08:20:32.286555Z",
     "iopub.status.busy": "2024-06-14T08:20:32.285909Z",
     "iopub.status.idle": "2024-06-14T08:20:32.294850Z",
     "shell.execute_reply": "2024-06-14T08:20:32.293608Z"
    },
    "papermill": {
     "duration": 0.054226,
     "end_time": "2024-06-14T08:20:32.300351",
     "exception": false,
     "start_time": "2024-06-14T08:20:32.246125",
     "status": "completed"
    },
    "tags": []
   },
   "outputs": [
    {
     "data": {
      "text/plain": [
       "27667.293263201405"
      ]
     },
     "execution_count": 69,
     "metadata": {},
     "output_type": "execute_result"
    }
   ],
   "source": [
    "mae(y_valid,y_pred_2)"
   ]
  },
  {
   "cell_type": "markdown",
   "id": "837a8986",
   "metadata": {
    "papermill": {
     "duration": 0.022281,
     "end_time": "2024-06-14T08:20:32.353672",
     "exception": false,
     "start_time": "2024-06-14T08:20:32.331391",
     "status": "completed"
    },
    "tags": []
   },
   "source": [
    "### 4. Feature Importance using tree-based models\n",
    "* Use feature importance scores from Random Forests or XGBoost to select important features."
   ]
  },
  {
   "cell_type": "code",
   "execution_count": 70,
   "id": "4e108903",
   "metadata": {
    "execution": {
     "iopub.execute_input": "2024-06-14T08:20:32.401012Z",
     "iopub.status.busy": "2024-06-14T08:20:32.400040Z",
     "iopub.status.idle": "2024-06-14T08:20:32.479292Z",
     "shell.execute_reply": "2024-06-14T08:20:32.478376Z"
    },
    "papermill": {
     "duration": 0.105629,
     "end_time": "2024-06-14T08:20:32.481854",
     "exception": false,
     "start_time": "2024-06-14T08:20:32.376225",
     "status": "completed"
    },
    "tags": []
   },
   "outputs": [],
   "source": [
    "from sklearn.ensemble import RandomForestRegressor"
   ]
  },
  {
   "cell_type": "code",
   "execution_count": 71,
   "id": "132a21e6",
   "metadata": {
    "execution": {
     "iopub.execute_input": "2024-06-14T08:20:32.529218Z",
     "iopub.status.busy": "2024-06-14T08:20:32.528819Z",
     "iopub.status.idle": "2024-06-14T08:20:33.515490Z",
     "shell.execute_reply": "2024-06-14T08:20:33.514438Z"
    },
    "papermill": {
     "duration": 1.01303,
     "end_time": "2024-06-14T08:20:33.517738",
     "exception": false,
     "start_time": "2024-06-14T08:20:32.504708",
     "status": "completed"
    },
    "tags": []
   },
   "outputs": [
    {
     "data": {
      "text/html": [
       "<style>#sk-container-id-1 {\n",
       "  /* Definition of color scheme common for light and dark mode */\n",
       "  --sklearn-color-text: black;\n",
       "  --sklearn-color-line: gray;\n",
       "  /* Definition of color scheme for unfitted estimators */\n",
       "  --sklearn-color-unfitted-level-0: #fff5e6;\n",
       "  --sklearn-color-unfitted-level-1: #f6e4d2;\n",
       "  --sklearn-color-unfitted-level-2: #ffe0b3;\n",
       "  --sklearn-color-unfitted-level-3: chocolate;\n",
       "  /* Definition of color scheme for fitted estimators */\n",
       "  --sklearn-color-fitted-level-0: #f0f8ff;\n",
       "  --sklearn-color-fitted-level-1: #d4ebff;\n",
       "  --sklearn-color-fitted-level-2: #b3dbfd;\n",
       "  --sklearn-color-fitted-level-3: cornflowerblue;\n",
       "\n",
       "  /* Specific color for light theme */\n",
       "  --sklearn-color-text-on-default-background: var(--sg-text-color, var(--theme-code-foreground, var(--jp-content-font-color1, black)));\n",
       "  --sklearn-color-background: var(--sg-background-color, var(--theme-background, var(--jp-layout-color0, white)));\n",
       "  --sklearn-color-border-box: var(--sg-text-color, var(--theme-code-foreground, var(--jp-content-font-color1, black)));\n",
       "  --sklearn-color-icon: #696969;\n",
       "\n",
       "  @media (prefers-color-scheme: dark) {\n",
       "    /* Redefinition of color scheme for dark theme */\n",
       "    --sklearn-color-text-on-default-background: var(--sg-text-color, var(--theme-code-foreground, var(--jp-content-font-color1, white)));\n",
       "    --sklearn-color-background: var(--sg-background-color, var(--theme-background, var(--jp-layout-color0, #111)));\n",
       "    --sklearn-color-border-box: var(--sg-text-color, var(--theme-code-foreground, var(--jp-content-font-color1, white)));\n",
       "    --sklearn-color-icon: #878787;\n",
       "  }\n",
       "}\n",
       "\n",
       "#sk-container-id-1 {\n",
       "  color: var(--sklearn-color-text);\n",
       "}\n",
       "\n",
       "#sk-container-id-1 pre {\n",
       "  padding: 0;\n",
       "}\n",
       "\n",
       "#sk-container-id-1 input.sk-hidden--visually {\n",
       "  border: 0;\n",
       "  clip: rect(1px 1px 1px 1px);\n",
       "  clip: rect(1px, 1px, 1px, 1px);\n",
       "  height: 1px;\n",
       "  margin: -1px;\n",
       "  overflow: hidden;\n",
       "  padding: 0;\n",
       "  position: absolute;\n",
       "  width: 1px;\n",
       "}\n",
       "\n",
       "#sk-container-id-1 div.sk-dashed-wrapped {\n",
       "  border: 1px dashed var(--sklearn-color-line);\n",
       "  margin: 0 0.4em 0.5em 0.4em;\n",
       "  box-sizing: border-box;\n",
       "  padding-bottom: 0.4em;\n",
       "  background-color: var(--sklearn-color-background);\n",
       "}\n",
       "\n",
       "#sk-container-id-1 div.sk-container {\n",
       "  /* jupyter's `normalize.less` sets `[hidden] { display: none; }`\n",
       "     but bootstrap.min.css set `[hidden] { display: none !important; }`\n",
       "     so we also need the `!important` here to be able to override the\n",
       "     default hidden behavior on the sphinx rendered scikit-learn.org.\n",
       "     See: https://github.com/scikit-learn/scikit-learn/issues/21755 */\n",
       "  display: inline-block !important;\n",
       "  position: relative;\n",
       "}\n",
       "\n",
       "#sk-container-id-1 div.sk-text-repr-fallback {\n",
       "  display: none;\n",
       "}\n",
       "\n",
       "div.sk-parallel-item,\n",
       "div.sk-serial,\n",
       "div.sk-item {\n",
       "  /* draw centered vertical line to link estimators */\n",
       "  background-image: linear-gradient(var(--sklearn-color-text-on-default-background), var(--sklearn-color-text-on-default-background));\n",
       "  background-size: 2px 100%;\n",
       "  background-repeat: no-repeat;\n",
       "  background-position: center center;\n",
       "}\n",
       "\n",
       "/* Parallel-specific style estimator block */\n",
       "\n",
       "#sk-container-id-1 div.sk-parallel-item::after {\n",
       "  content: \"\";\n",
       "  width: 100%;\n",
       "  border-bottom: 2px solid var(--sklearn-color-text-on-default-background);\n",
       "  flex-grow: 1;\n",
       "}\n",
       "\n",
       "#sk-container-id-1 div.sk-parallel {\n",
       "  display: flex;\n",
       "  align-items: stretch;\n",
       "  justify-content: center;\n",
       "  background-color: var(--sklearn-color-background);\n",
       "  position: relative;\n",
       "}\n",
       "\n",
       "#sk-container-id-1 div.sk-parallel-item {\n",
       "  display: flex;\n",
       "  flex-direction: column;\n",
       "}\n",
       "\n",
       "#sk-container-id-1 div.sk-parallel-item:first-child::after {\n",
       "  align-self: flex-end;\n",
       "  width: 50%;\n",
       "}\n",
       "\n",
       "#sk-container-id-1 div.sk-parallel-item:last-child::after {\n",
       "  align-self: flex-start;\n",
       "  width: 50%;\n",
       "}\n",
       "\n",
       "#sk-container-id-1 div.sk-parallel-item:only-child::after {\n",
       "  width: 0;\n",
       "}\n",
       "\n",
       "/* Serial-specific style estimator block */\n",
       "\n",
       "#sk-container-id-1 div.sk-serial {\n",
       "  display: flex;\n",
       "  flex-direction: column;\n",
       "  align-items: center;\n",
       "  background-color: var(--sklearn-color-background);\n",
       "  padding-right: 1em;\n",
       "  padding-left: 1em;\n",
       "}\n",
       "\n",
       "\n",
       "/* Toggleable style: style used for estimator/Pipeline/ColumnTransformer box that is\n",
       "clickable and can be expanded/collapsed.\n",
       "- Pipeline and ColumnTransformer use this feature and define the default style\n",
       "- Estimators will overwrite some part of the style using the `sk-estimator` class\n",
       "*/\n",
       "\n",
       "/* Pipeline and ColumnTransformer style (default) */\n",
       "\n",
       "#sk-container-id-1 div.sk-toggleable {\n",
       "  /* Default theme specific background. It is overwritten whether we have a\n",
       "  specific estimator or a Pipeline/ColumnTransformer */\n",
       "  background-color: var(--sklearn-color-background);\n",
       "}\n",
       "\n",
       "/* Toggleable label */\n",
       "#sk-container-id-1 label.sk-toggleable__label {\n",
       "  cursor: pointer;\n",
       "  display: block;\n",
       "  width: 100%;\n",
       "  margin-bottom: 0;\n",
       "  padding: 0.5em;\n",
       "  box-sizing: border-box;\n",
       "  text-align: center;\n",
       "}\n",
       "\n",
       "#sk-container-id-1 label.sk-toggleable__label-arrow:before {\n",
       "  /* Arrow on the left of the label */\n",
       "  content: \"▸\";\n",
       "  float: left;\n",
       "  margin-right: 0.25em;\n",
       "  color: var(--sklearn-color-icon);\n",
       "}\n",
       "\n",
       "#sk-container-id-1 label.sk-toggleable__label-arrow:hover:before {\n",
       "  color: var(--sklearn-color-text);\n",
       "}\n",
       "\n",
       "/* Toggleable content - dropdown */\n",
       "\n",
       "#sk-container-id-1 div.sk-toggleable__content {\n",
       "  max-height: 0;\n",
       "  max-width: 0;\n",
       "  overflow: hidden;\n",
       "  text-align: left;\n",
       "  /* unfitted */\n",
       "  background-color: var(--sklearn-color-unfitted-level-0);\n",
       "}\n",
       "\n",
       "#sk-container-id-1 div.sk-toggleable__content.fitted {\n",
       "  /* fitted */\n",
       "  background-color: var(--sklearn-color-fitted-level-0);\n",
       "}\n",
       "\n",
       "#sk-container-id-1 div.sk-toggleable__content pre {\n",
       "  margin: 0.2em;\n",
       "  border-radius: 0.25em;\n",
       "  color: var(--sklearn-color-text);\n",
       "  /* unfitted */\n",
       "  background-color: var(--sklearn-color-unfitted-level-0);\n",
       "}\n",
       "\n",
       "#sk-container-id-1 div.sk-toggleable__content.fitted pre {\n",
       "  /* unfitted */\n",
       "  background-color: var(--sklearn-color-fitted-level-0);\n",
       "}\n",
       "\n",
       "#sk-container-id-1 input.sk-toggleable__control:checked~div.sk-toggleable__content {\n",
       "  /* Expand drop-down */\n",
       "  max-height: 200px;\n",
       "  max-width: 100%;\n",
       "  overflow: auto;\n",
       "}\n",
       "\n",
       "#sk-container-id-1 input.sk-toggleable__control:checked~label.sk-toggleable__label-arrow:before {\n",
       "  content: \"▾\";\n",
       "}\n",
       "\n",
       "/* Pipeline/ColumnTransformer-specific style */\n",
       "\n",
       "#sk-container-id-1 div.sk-label input.sk-toggleable__control:checked~label.sk-toggleable__label {\n",
       "  color: var(--sklearn-color-text);\n",
       "  background-color: var(--sklearn-color-unfitted-level-2);\n",
       "}\n",
       "\n",
       "#sk-container-id-1 div.sk-label.fitted input.sk-toggleable__control:checked~label.sk-toggleable__label {\n",
       "  background-color: var(--sklearn-color-fitted-level-2);\n",
       "}\n",
       "\n",
       "/* Estimator-specific style */\n",
       "\n",
       "/* Colorize estimator box */\n",
       "#sk-container-id-1 div.sk-estimator input.sk-toggleable__control:checked~label.sk-toggleable__label {\n",
       "  /* unfitted */\n",
       "  background-color: var(--sklearn-color-unfitted-level-2);\n",
       "}\n",
       "\n",
       "#sk-container-id-1 div.sk-estimator.fitted input.sk-toggleable__control:checked~label.sk-toggleable__label {\n",
       "  /* fitted */\n",
       "  background-color: var(--sklearn-color-fitted-level-2);\n",
       "}\n",
       "\n",
       "#sk-container-id-1 div.sk-label label.sk-toggleable__label,\n",
       "#sk-container-id-1 div.sk-label label {\n",
       "  /* The background is the default theme color */\n",
       "  color: var(--sklearn-color-text-on-default-background);\n",
       "}\n",
       "\n",
       "/* On hover, darken the color of the background */\n",
       "#sk-container-id-1 div.sk-label:hover label.sk-toggleable__label {\n",
       "  color: var(--sklearn-color-text);\n",
       "  background-color: var(--sklearn-color-unfitted-level-2);\n",
       "}\n",
       "\n",
       "/* Label box, darken color on hover, fitted */\n",
       "#sk-container-id-1 div.sk-label.fitted:hover label.sk-toggleable__label.fitted {\n",
       "  color: var(--sklearn-color-text);\n",
       "  background-color: var(--sklearn-color-fitted-level-2);\n",
       "}\n",
       "\n",
       "/* Estimator label */\n",
       "\n",
       "#sk-container-id-1 div.sk-label label {\n",
       "  font-family: monospace;\n",
       "  font-weight: bold;\n",
       "  display: inline-block;\n",
       "  line-height: 1.2em;\n",
       "}\n",
       "\n",
       "#sk-container-id-1 div.sk-label-container {\n",
       "  text-align: center;\n",
       "}\n",
       "\n",
       "/* Estimator-specific */\n",
       "#sk-container-id-1 div.sk-estimator {\n",
       "  font-family: monospace;\n",
       "  border: 1px dotted var(--sklearn-color-border-box);\n",
       "  border-radius: 0.25em;\n",
       "  box-sizing: border-box;\n",
       "  margin-bottom: 0.5em;\n",
       "  /* unfitted */\n",
       "  background-color: var(--sklearn-color-unfitted-level-0);\n",
       "}\n",
       "\n",
       "#sk-container-id-1 div.sk-estimator.fitted {\n",
       "  /* fitted */\n",
       "  background-color: var(--sklearn-color-fitted-level-0);\n",
       "}\n",
       "\n",
       "/* on hover */\n",
       "#sk-container-id-1 div.sk-estimator:hover {\n",
       "  /* unfitted */\n",
       "  background-color: var(--sklearn-color-unfitted-level-2);\n",
       "}\n",
       "\n",
       "#sk-container-id-1 div.sk-estimator.fitted:hover {\n",
       "  /* fitted */\n",
       "  background-color: var(--sklearn-color-fitted-level-2);\n",
       "}\n",
       "\n",
       "/* Specification for estimator info (e.g. \"i\" and \"?\") */\n",
       "\n",
       "/* Common style for \"i\" and \"?\" */\n",
       "\n",
       ".sk-estimator-doc-link,\n",
       "a:link.sk-estimator-doc-link,\n",
       "a:visited.sk-estimator-doc-link {\n",
       "  float: right;\n",
       "  font-size: smaller;\n",
       "  line-height: 1em;\n",
       "  font-family: monospace;\n",
       "  background-color: var(--sklearn-color-background);\n",
       "  border-radius: 1em;\n",
       "  height: 1em;\n",
       "  width: 1em;\n",
       "  text-decoration: none !important;\n",
       "  margin-left: 1ex;\n",
       "  /* unfitted */\n",
       "  border: var(--sklearn-color-unfitted-level-1) 1pt solid;\n",
       "  color: var(--sklearn-color-unfitted-level-1);\n",
       "}\n",
       "\n",
       ".sk-estimator-doc-link.fitted,\n",
       "a:link.sk-estimator-doc-link.fitted,\n",
       "a:visited.sk-estimator-doc-link.fitted {\n",
       "  /* fitted */\n",
       "  border: var(--sklearn-color-fitted-level-1) 1pt solid;\n",
       "  color: var(--sklearn-color-fitted-level-1);\n",
       "}\n",
       "\n",
       "/* On hover */\n",
       "div.sk-estimator:hover .sk-estimator-doc-link:hover,\n",
       ".sk-estimator-doc-link:hover,\n",
       "div.sk-label-container:hover .sk-estimator-doc-link:hover,\n",
       ".sk-estimator-doc-link:hover {\n",
       "  /* unfitted */\n",
       "  background-color: var(--sklearn-color-unfitted-level-3);\n",
       "  color: var(--sklearn-color-background);\n",
       "  text-decoration: none;\n",
       "}\n",
       "\n",
       "div.sk-estimator.fitted:hover .sk-estimator-doc-link.fitted:hover,\n",
       ".sk-estimator-doc-link.fitted:hover,\n",
       "div.sk-label-container:hover .sk-estimator-doc-link.fitted:hover,\n",
       ".sk-estimator-doc-link.fitted:hover {\n",
       "  /* fitted */\n",
       "  background-color: var(--sklearn-color-fitted-level-3);\n",
       "  color: var(--sklearn-color-background);\n",
       "  text-decoration: none;\n",
       "}\n",
       "\n",
       "/* Span, style for the box shown on hovering the info icon */\n",
       ".sk-estimator-doc-link span {\n",
       "  display: none;\n",
       "  z-index: 9999;\n",
       "  position: relative;\n",
       "  font-weight: normal;\n",
       "  right: .2ex;\n",
       "  padding: .5ex;\n",
       "  margin: .5ex;\n",
       "  width: min-content;\n",
       "  min-width: 20ex;\n",
       "  max-width: 50ex;\n",
       "  color: var(--sklearn-color-text);\n",
       "  box-shadow: 2pt 2pt 4pt #999;\n",
       "  /* unfitted */\n",
       "  background: var(--sklearn-color-unfitted-level-0);\n",
       "  border: .5pt solid var(--sklearn-color-unfitted-level-3);\n",
       "}\n",
       "\n",
       ".sk-estimator-doc-link.fitted span {\n",
       "  /* fitted */\n",
       "  background: var(--sklearn-color-fitted-level-0);\n",
       "  border: var(--sklearn-color-fitted-level-3);\n",
       "}\n",
       "\n",
       ".sk-estimator-doc-link:hover span {\n",
       "  display: block;\n",
       "}\n",
       "\n",
       "/* \"?\"-specific style due to the `<a>` HTML tag */\n",
       "\n",
       "#sk-container-id-1 a.estimator_doc_link {\n",
       "  float: right;\n",
       "  font-size: 1rem;\n",
       "  line-height: 1em;\n",
       "  font-family: monospace;\n",
       "  background-color: var(--sklearn-color-background);\n",
       "  border-radius: 1rem;\n",
       "  height: 1rem;\n",
       "  width: 1rem;\n",
       "  text-decoration: none;\n",
       "  /* unfitted */\n",
       "  color: var(--sklearn-color-unfitted-level-1);\n",
       "  border: var(--sklearn-color-unfitted-level-1) 1pt solid;\n",
       "}\n",
       "\n",
       "#sk-container-id-1 a.estimator_doc_link.fitted {\n",
       "  /* fitted */\n",
       "  border: var(--sklearn-color-fitted-level-1) 1pt solid;\n",
       "  color: var(--sklearn-color-fitted-level-1);\n",
       "}\n",
       "\n",
       "/* On hover */\n",
       "#sk-container-id-1 a.estimator_doc_link:hover {\n",
       "  /* unfitted */\n",
       "  background-color: var(--sklearn-color-unfitted-level-3);\n",
       "  color: var(--sklearn-color-background);\n",
       "  text-decoration: none;\n",
       "}\n",
       "\n",
       "#sk-container-id-1 a.estimator_doc_link.fitted:hover {\n",
       "  /* fitted */\n",
       "  background-color: var(--sklearn-color-fitted-level-3);\n",
       "}\n",
       "</style><div id=\"sk-container-id-1\" class=\"sk-top-container\"><div class=\"sk-text-repr-fallback\"><pre>RandomForestRegressor(random_state=1)</pre><b>In a Jupyter environment, please rerun this cell to show the HTML representation or trust the notebook. <br />On GitHub, the HTML representation is unable to render, please try loading this page with nbviewer.org.</b></div><div class=\"sk-container\" hidden><div class=\"sk-item\"><div class=\"sk-estimator fitted sk-toggleable\"><input class=\"sk-toggleable__control sk-hidden--visually\" id=\"sk-estimator-id-1\" type=\"checkbox\" checked><label for=\"sk-estimator-id-1\" class=\"sk-toggleable__label fitted sk-toggleable__label-arrow fitted\">&nbsp;&nbsp;RandomForestRegressor<a class=\"sk-estimator-doc-link fitted\" rel=\"noreferrer\" target=\"_blank\" href=\"https://scikit-learn.org/1.5/modules/generated/sklearn.ensemble.RandomForestRegressor.html\">?<span>Documentation for RandomForestRegressor</span></a><span class=\"sk-estimator-doc-link fitted\">i<span>Fitted</span></span></label><div class=\"sk-toggleable__content fitted\"><pre>RandomForestRegressor(random_state=1)</pre></div> </div></div></div></div>"
      ],
      "text/plain": [
       "RandomForestRegressor(random_state=1)"
      ]
     },
     "execution_count": 71,
     "metadata": {},
     "output_type": "execute_result"
    }
   ],
   "source": [
    "rf_model=RandomForestRegressor(random_state=1)\n",
    "rf_model.fit(X_train,y_train)"
   ]
  },
  {
   "cell_type": "code",
   "execution_count": 72,
   "id": "a9263cce",
   "metadata": {
    "execution": {
     "iopub.execute_input": "2024-06-14T08:20:33.565873Z",
     "iopub.status.busy": "2024-06-14T08:20:33.565501Z",
     "iopub.status.idle": "2024-06-14T08:20:33.579517Z",
     "shell.execute_reply": "2024-06-14T08:20:33.578496Z"
    },
    "papermill": {
     "duration": 0.040728,
     "end_time": "2024-06-14T08:20:33.581813",
     "exception": false,
     "start_time": "2024-06-14T08:20:33.541085",
     "status": "completed"
    },
    "tags": []
   },
   "outputs": [
    {
     "name": "stdout",
     "output_type": "stream",
     "text": [
      "1. Feature 3(0.5745931058227084)\n",
      "2. Feature 10(0.1312716773726005)\n",
      "3. Feature 7(0.07822397677179424)\n",
      "4. Feature 2(0.03691791126538648)\n",
      "5. Feature 5(0.03337051731105409)\n",
      "6. Feature 8(0.02418437944431081)\n",
      "7. Feature 6(0.019330913818016424)\n",
      "8. Feature 15(0.015046999362626849)\n",
      "9. Feature 18(0.01212848919991582)\n",
      "10. Feature 24(0.011274764947038718)\n",
      "11. Feature 17(0.010530875136004834)\n",
      "12. Feature 0(0.010407482819570204)\n",
      "13. Feature 11(0.010065878332357302)\n",
      "14. Feature 4(0.007631518897744946)\n",
      "15. Feature 16(0.005011225542724217)\n",
      "16. Feature 1(0.004817969646883433)\n",
      "17. Feature 25(0.003744139048476659)\n",
      "18. Feature 13(0.0029061377481288285)\n",
      "19. Feature 21(0.0028571496105006967)\n",
      "20. Feature 12(0.0014386369548681412)\n",
      "21. Feature 20(0.001417987098975621)\n",
      "22. Feature 19(0.0012623676709773845)\n",
      "23. Feature 14(0.0008483757437916279)\n",
      "24. Feature 23(0.00025775512636287413)\n",
      "25. Feature 9(0.0002492036911356695)\n",
      "26. Feature 22(0.00021056161604524518)\n"
     ]
    }
   ],
   "source": [
    "#Get important features\n",
    "importances=rf_model.feature_importances_\n",
    "\n",
    "#Sort features by importance\n",
    "indices=np.argsort(importances)[::-1]\n",
    "\n",
    "# print the feature ranking\n",
    "for f in range(X_train.shape[1]):\n",
    "    print(f\"{f+1}. Feature {indices[f]}({importances[indices[f]]})\")"
   ]
  },
  {
   "cell_type": "code",
   "execution_count": 73,
   "id": "f38299db",
   "metadata": {
    "execution": {
     "iopub.execute_input": "2024-06-14T08:20:33.630613Z",
     "iopub.status.busy": "2024-06-14T08:20:33.630232Z",
     "iopub.status.idle": "2024-06-14T08:20:33.634803Z",
     "shell.execute_reply": "2024-06-14T08:20:33.633641Z"
    },
    "papermill": {
     "duration": 0.031482,
     "end_time": "2024-06-14T08:20:33.636872",
     "exception": false,
     "start_time": "2024-06-14T08:20:33.605390",
     "status": "completed"
    },
    "tags": []
   },
   "outputs": [],
   "source": [
    "#Select top n features \n",
    "n_top_features=30\n",
    "top_features=indices[:n_top_features]"
   ]
  },
  {
   "cell_type": "code",
   "execution_count": 74,
   "id": "fef7645d",
   "metadata": {
    "execution": {
     "iopub.execute_input": "2024-06-14T08:20:33.685858Z",
     "iopub.status.busy": "2024-06-14T08:20:33.685489Z",
     "iopub.status.idle": "2024-06-14T08:20:33.694664Z",
     "shell.execute_reply": "2024-06-14T08:20:33.693564Z"
    },
    "papermill": {
     "duration": 0.036854,
     "end_time": "2024-06-14T08:20:33.697560",
     "exception": false,
     "start_time": "2024-06-14T08:20:33.660706",
     "status": "completed"
    },
    "tags": []
   },
   "outputs": [],
   "source": [
    "model_1.fit(X_train,y_train)\n",
    "y_pred_3=model_1.predict(X_valid)"
   ]
  },
  {
   "cell_type": "code",
   "execution_count": 75,
   "id": "f9b581fc",
   "metadata": {
    "execution": {
     "iopub.execute_input": "2024-06-14T08:20:33.780798Z",
     "iopub.status.busy": "2024-06-14T08:20:33.780248Z",
     "iopub.status.idle": "2024-06-14T08:20:33.789168Z",
     "shell.execute_reply": "2024-06-14T08:20:33.788043Z"
    },
    "papermill": {
     "duration": 0.057906,
     "end_time": "2024-06-14T08:20:33.796603",
     "exception": false,
     "start_time": "2024-06-14T08:20:33.738697",
     "status": "completed"
    },
    "tags": []
   },
   "outputs": [
    {
     "data": {
      "text/plain": [
       "23344.054949826867"
      ]
     },
     "execution_count": 75,
     "metadata": {},
     "output_type": "execute_result"
    }
   ],
   "source": [
    "mae(y_valid,y_pred_3)"
   ]
  },
  {
   "cell_type": "code",
   "execution_count": 76,
   "id": "b6e1b69a",
   "metadata": {
    "execution": {
     "iopub.execute_input": "2024-06-14T08:20:33.852032Z",
     "iopub.status.busy": "2024-06-14T08:20:33.851086Z",
     "iopub.status.idle": "2024-06-14T08:20:33.932116Z",
     "shell.execute_reply": "2024-06-14T08:20:33.931089Z"
    },
    "papermill": {
     "duration": 0.107951,
     "end_time": "2024-06-14T08:20:33.934727",
     "exception": false,
     "start_time": "2024-06-14T08:20:33.826776",
     "status": "completed"
    },
    "tags": []
   },
   "outputs": [
    {
     "data": {
      "text/plain": [
       "19438879658034.652"
      ]
     },
     "execution_count": 76,
     "metadata": {},
     "output_type": "execute_result"
    }
   ],
   "source": [
    "# Create polynomial features for selected features\n",
    "poly = PolynomialFeatures(degree=2, include_bias=False)\n",
    "X_train_poly_rfe = poly.fit_transform(X_train)\n",
    "X_valid_poly_rfe = poly.transform(X_valid)\n",
    "test_poly_rfe=poly.transform(test_encoded_scaled)\n",
    "\n",
    "# Train the linear regression model\n",
    "model_1.fit(X_train_poly_rfe, y_train)\n",
    "\n",
    "# Predict on the test set\n",
    "y_pred_5 = model_1.predict(X_valid_poly_rfe)\n",
    "\n",
    "# Calculate MAE\n",
    "mae(y_valid,y_pred_5)"
   ]
  },
  {
   "cell_type": "markdown",
   "id": "ee7a43c0",
   "metadata": {
    "papermill": {
     "duration": 0.038671,
     "end_time": "2024-06-14T08:20:34.064176",
     "exception": false,
     "start_time": "2024-06-14T08:20:34.025505",
     "status": "completed"
    },
    "tags": []
   },
   "source": [
    "#### 6.Hyperparameter tunning using Grid Search and Random search"
   ]
  },
  {
   "cell_type": "code",
   "execution_count": 77,
   "id": "0c2888ce",
   "metadata": {
    "execution": {
     "iopub.execute_input": "2024-06-14T08:20:34.112932Z",
     "iopub.status.busy": "2024-06-14T08:20:34.112583Z",
     "iopub.status.idle": "2024-06-14T08:20:34.117565Z",
     "shell.execute_reply": "2024-06-14T08:20:34.116492Z"
    },
    "papermill": {
     "duration": 0.03157,
     "end_time": "2024-06-14T08:20:34.119673",
     "exception": false,
     "start_time": "2024-06-14T08:20:34.088103",
     "status": "completed"
    },
    "tags": []
   },
   "outputs": [],
   "source": [
    "from sklearn.linear_model import Ridge,Lasso\n",
    "from sklearn.model_selection import GridSearchCV"
   ]
  },
  {
   "cell_type": "code",
   "execution_count": 78,
   "id": "e2a66665",
   "metadata": {
    "execution": {
     "iopub.execute_input": "2024-06-14T08:20:34.168940Z",
     "iopub.status.busy": "2024-06-14T08:20:34.168540Z",
     "iopub.status.idle": "2024-06-14T08:20:34.271669Z",
     "shell.execute_reply": "2024-06-14T08:20:34.270605Z"
    },
    "papermill": {
     "duration": 0.130499,
     "end_time": "2024-06-14T08:20:34.274548",
     "exception": false,
     "start_time": "2024-06-14T08:20:34.144049",
     "status": "completed"
    },
    "tags": []
   },
   "outputs": [
    {
     "data": {
      "text/html": [
       "<style>#sk-container-id-2 {\n",
       "  /* Definition of color scheme common for light and dark mode */\n",
       "  --sklearn-color-text: black;\n",
       "  --sklearn-color-line: gray;\n",
       "  /* Definition of color scheme for unfitted estimators */\n",
       "  --sklearn-color-unfitted-level-0: #fff5e6;\n",
       "  --sklearn-color-unfitted-level-1: #f6e4d2;\n",
       "  --sklearn-color-unfitted-level-2: #ffe0b3;\n",
       "  --sklearn-color-unfitted-level-3: chocolate;\n",
       "  /* Definition of color scheme for fitted estimators */\n",
       "  --sklearn-color-fitted-level-0: #f0f8ff;\n",
       "  --sklearn-color-fitted-level-1: #d4ebff;\n",
       "  --sklearn-color-fitted-level-2: #b3dbfd;\n",
       "  --sklearn-color-fitted-level-3: cornflowerblue;\n",
       "\n",
       "  /* Specific color for light theme */\n",
       "  --sklearn-color-text-on-default-background: var(--sg-text-color, var(--theme-code-foreground, var(--jp-content-font-color1, black)));\n",
       "  --sklearn-color-background: var(--sg-background-color, var(--theme-background, var(--jp-layout-color0, white)));\n",
       "  --sklearn-color-border-box: var(--sg-text-color, var(--theme-code-foreground, var(--jp-content-font-color1, black)));\n",
       "  --sklearn-color-icon: #696969;\n",
       "\n",
       "  @media (prefers-color-scheme: dark) {\n",
       "    /* Redefinition of color scheme for dark theme */\n",
       "    --sklearn-color-text-on-default-background: var(--sg-text-color, var(--theme-code-foreground, var(--jp-content-font-color1, white)));\n",
       "    --sklearn-color-background: var(--sg-background-color, var(--theme-background, var(--jp-layout-color0, #111)));\n",
       "    --sklearn-color-border-box: var(--sg-text-color, var(--theme-code-foreground, var(--jp-content-font-color1, white)));\n",
       "    --sklearn-color-icon: #878787;\n",
       "  }\n",
       "}\n",
       "\n",
       "#sk-container-id-2 {\n",
       "  color: var(--sklearn-color-text);\n",
       "}\n",
       "\n",
       "#sk-container-id-2 pre {\n",
       "  padding: 0;\n",
       "}\n",
       "\n",
       "#sk-container-id-2 input.sk-hidden--visually {\n",
       "  border: 0;\n",
       "  clip: rect(1px 1px 1px 1px);\n",
       "  clip: rect(1px, 1px, 1px, 1px);\n",
       "  height: 1px;\n",
       "  margin: -1px;\n",
       "  overflow: hidden;\n",
       "  padding: 0;\n",
       "  position: absolute;\n",
       "  width: 1px;\n",
       "}\n",
       "\n",
       "#sk-container-id-2 div.sk-dashed-wrapped {\n",
       "  border: 1px dashed var(--sklearn-color-line);\n",
       "  margin: 0 0.4em 0.5em 0.4em;\n",
       "  box-sizing: border-box;\n",
       "  padding-bottom: 0.4em;\n",
       "  background-color: var(--sklearn-color-background);\n",
       "}\n",
       "\n",
       "#sk-container-id-2 div.sk-container {\n",
       "  /* jupyter's `normalize.less` sets `[hidden] { display: none; }`\n",
       "     but bootstrap.min.css set `[hidden] { display: none !important; }`\n",
       "     so we also need the `!important` here to be able to override the\n",
       "     default hidden behavior on the sphinx rendered scikit-learn.org.\n",
       "     See: https://github.com/scikit-learn/scikit-learn/issues/21755 */\n",
       "  display: inline-block !important;\n",
       "  position: relative;\n",
       "}\n",
       "\n",
       "#sk-container-id-2 div.sk-text-repr-fallback {\n",
       "  display: none;\n",
       "}\n",
       "\n",
       "div.sk-parallel-item,\n",
       "div.sk-serial,\n",
       "div.sk-item {\n",
       "  /* draw centered vertical line to link estimators */\n",
       "  background-image: linear-gradient(var(--sklearn-color-text-on-default-background), var(--sklearn-color-text-on-default-background));\n",
       "  background-size: 2px 100%;\n",
       "  background-repeat: no-repeat;\n",
       "  background-position: center center;\n",
       "}\n",
       "\n",
       "/* Parallel-specific style estimator block */\n",
       "\n",
       "#sk-container-id-2 div.sk-parallel-item::after {\n",
       "  content: \"\";\n",
       "  width: 100%;\n",
       "  border-bottom: 2px solid var(--sklearn-color-text-on-default-background);\n",
       "  flex-grow: 1;\n",
       "}\n",
       "\n",
       "#sk-container-id-2 div.sk-parallel {\n",
       "  display: flex;\n",
       "  align-items: stretch;\n",
       "  justify-content: center;\n",
       "  background-color: var(--sklearn-color-background);\n",
       "  position: relative;\n",
       "}\n",
       "\n",
       "#sk-container-id-2 div.sk-parallel-item {\n",
       "  display: flex;\n",
       "  flex-direction: column;\n",
       "}\n",
       "\n",
       "#sk-container-id-2 div.sk-parallel-item:first-child::after {\n",
       "  align-self: flex-end;\n",
       "  width: 50%;\n",
       "}\n",
       "\n",
       "#sk-container-id-2 div.sk-parallel-item:last-child::after {\n",
       "  align-self: flex-start;\n",
       "  width: 50%;\n",
       "}\n",
       "\n",
       "#sk-container-id-2 div.sk-parallel-item:only-child::after {\n",
       "  width: 0;\n",
       "}\n",
       "\n",
       "/* Serial-specific style estimator block */\n",
       "\n",
       "#sk-container-id-2 div.sk-serial {\n",
       "  display: flex;\n",
       "  flex-direction: column;\n",
       "  align-items: center;\n",
       "  background-color: var(--sklearn-color-background);\n",
       "  padding-right: 1em;\n",
       "  padding-left: 1em;\n",
       "}\n",
       "\n",
       "\n",
       "/* Toggleable style: style used for estimator/Pipeline/ColumnTransformer box that is\n",
       "clickable and can be expanded/collapsed.\n",
       "- Pipeline and ColumnTransformer use this feature and define the default style\n",
       "- Estimators will overwrite some part of the style using the `sk-estimator` class\n",
       "*/\n",
       "\n",
       "/* Pipeline and ColumnTransformer style (default) */\n",
       "\n",
       "#sk-container-id-2 div.sk-toggleable {\n",
       "  /* Default theme specific background. It is overwritten whether we have a\n",
       "  specific estimator or a Pipeline/ColumnTransformer */\n",
       "  background-color: var(--sklearn-color-background);\n",
       "}\n",
       "\n",
       "/* Toggleable label */\n",
       "#sk-container-id-2 label.sk-toggleable__label {\n",
       "  cursor: pointer;\n",
       "  display: block;\n",
       "  width: 100%;\n",
       "  margin-bottom: 0;\n",
       "  padding: 0.5em;\n",
       "  box-sizing: border-box;\n",
       "  text-align: center;\n",
       "}\n",
       "\n",
       "#sk-container-id-2 label.sk-toggleable__label-arrow:before {\n",
       "  /* Arrow on the left of the label */\n",
       "  content: \"▸\";\n",
       "  float: left;\n",
       "  margin-right: 0.25em;\n",
       "  color: var(--sklearn-color-icon);\n",
       "}\n",
       "\n",
       "#sk-container-id-2 label.sk-toggleable__label-arrow:hover:before {\n",
       "  color: var(--sklearn-color-text);\n",
       "}\n",
       "\n",
       "/* Toggleable content - dropdown */\n",
       "\n",
       "#sk-container-id-2 div.sk-toggleable__content {\n",
       "  max-height: 0;\n",
       "  max-width: 0;\n",
       "  overflow: hidden;\n",
       "  text-align: left;\n",
       "  /* unfitted */\n",
       "  background-color: var(--sklearn-color-unfitted-level-0);\n",
       "}\n",
       "\n",
       "#sk-container-id-2 div.sk-toggleable__content.fitted {\n",
       "  /* fitted */\n",
       "  background-color: var(--sklearn-color-fitted-level-0);\n",
       "}\n",
       "\n",
       "#sk-container-id-2 div.sk-toggleable__content pre {\n",
       "  margin: 0.2em;\n",
       "  border-radius: 0.25em;\n",
       "  color: var(--sklearn-color-text);\n",
       "  /* unfitted */\n",
       "  background-color: var(--sklearn-color-unfitted-level-0);\n",
       "}\n",
       "\n",
       "#sk-container-id-2 div.sk-toggleable__content.fitted pre {\n",
       "  /* unfitted */\n",
       "  background-color: var(--sklearn-color-fitted-level-0);\n",
       "}\n",
       "\n",
       "#sk-container-id-2 input.sk-toggleable__control:checked~div.sk-toggleable__content {\n",
       "  /* Expand drop-down */\n",
       "  max-height: 200px;\n",
       "  max-width: 100%;\n",
       "  overflow: auto;\n",
       "}\n",
       "\n",
       "#sk-container-id-2 input.sk-toggleable__control:checked~label.sk-toggleable__label-arrow:before {\n",
       "  content: \"▾\";\n",
       "}\n",
       "\n",
       "/* Pipeline/ColumnTransformer-specific style */\n",
       "\n",
       "#sk-container-id-2 div.sk-label input.sk-toggleable__control:checked~label.sk-toggleable__label {\n",
       "  color: var(--sklearn-color-text);\n",
       "  background-color: var(--sklearn-color-unfitted-level-2);\n",
       "}\n",
       "\n",
       "#sk-container-id-2 div.sk-label.fitted input.sk-toggleable__control:checked~label.sk-toggleable__label {\n",
       "  background-color: var(--sklearn-color-fitted-level-2);\n",
       "}\n",
       "\n",
       "/* Estimator-specific style */\n",
       "\n",
       "/* Colorize estimator box */\n",
       "#sk-container-id-2 div.sk-estimator input.sk-toggleable__control:checked~label.sk-toggleable__label {\n",
       "  /* unfitted */\n",
       "  background-color: var(--sklearn-color-unfitted-level-2);\n",
       "}\n",
       "\n",
       "#sk-container-id-2 div.sk-estimator.fitted input.sk-toggleable__control:checked~label.sk-toggleable__label {\n",
       "  /* fitted */\n",
       "  background-color: var(--sklearn-color-fitted-level-2);\n",
       "}\n",
       "\n",
       "#sk-container-id-2 div.sk-label label.sk-toggleable__label,\n",
       "#sk-container-id-2 div.sk-label label {\n",
       "  /* The background is the default theme color */\n",
       "  color: var(--sklearn-color-text-on-default-background);\n",
       "}\n",
       "\n",
       "/* On hover, darken the color of the background */\n",
       "#sk-container-id-2 div.sk-label:hover label.sk-toggleable__label {\n",
       "  color: var(--sklearn-color-text);\n",
       "  background-color: var(--sklearn-color-unfitted-level-2);\n",
       "}\n",
       "\n",
       "/* Label box, darken color on hover, fitted */\n",
       "#sk-container-id-2 div.sk-label.fitted:hover label.sk-toggleable__label.fitted {\n",
       "  color: var(--sklearn-color-text);\n",
       "  background-color: var(--sklearn-color-fitted-level-2);\n",
       "}\n",
       "\n",
       "/* Estimator label */\n",
       "\n",
       "#sk-container-id-2 div.sk-label label {\n",
       "  font-family: monospace;\n",
       "  font-weight: bold;\n",
       "  display: inline-block;\n",
       "  line-height: 1.2em;\n",
       "}\n",
       "\n",
       "#sk-container-id-2 div.sk-label-container {\n",
       "  text-align: center;\n",
       "}\n",
       "\n",
       "/* Estimator-specific */\n",
       "#sk-container-id-2 div.sk-estimator {\n",
       "  font-family: monospace;\n",
       "  border: 1px dotted var(--sklearn-color-border-box);\n",
       "  border-radius: 0.25em;\n",
       "  box-sizing: border-box;\n",
       "  margin-bottom: 0.5em;\n",
       "  /* unfitted */\n",
       "  background-color: var(--sklearn-color-unfitted-level-0);\n",
       "}\n",
       "\n",
       "#sk-container-id-2 div.sk-estimator.fitted {\n",
       "  /* fitted */\n",
       "  background-color: var(--sklearn-color-fitted-level-0);\n",
       "}\n",
       "\n",
       "/* on hover */\n",
       "#sk-container-id-2 div.sk-estimator:hover {\n",
       "  /* unfitted */\n",
       "  background-color: var(--sklearn-color-unfitted-level-2);\n",
       "}\n",
       "\n",
       "#sk-container-id-2 div.sk-estimator.fitted:hover {\n",
       "  /* fitted */\n",
       "  background-color: var(--sklearn-color-fitted-level-2);\n",
       "}\n",
       "\n",
       "/* Specification for estimator info (e.g. \"i\" and \"?\") */\n",
       "\n",
       "/* Common style for \"i\" and \"?\" */\n",
       "\n",
       ".sk-estimator-doc-link,\n",
       "a:link.sk-estimator-doc-link,\n",
       "a:visited.sk-estimator-doc-link {\n",
       "  float: right;\n",
       "  font-size: smaller;\n",
       "  line-height: 1em;\n",
       "  font-family: monospace;\n",
       "  background-color: var(--sklearn-color-background);\n",
       "  border-radius: 1em;\n",
       "  height: 1em;\n",
       "  width: 1em;\n",
       "  text-decoration: none !important;\n",
       "  margin-left: 1ex;\n",
       "  /* unfitted */\n",
       "  border: var(--sklearn-color-unfitted-level-1) 1pt solid;\n",
       "  color: var(--sklearn-color-unfitted-level-1);\n",
       "}\n",
       "\n",
       ".sk-estimator-doc-link.fitted,\n",
       "a:link.sk-estimator-doc-link.fitted,\n",
       "a:visited.sk-estimator-doc-link.fitted {\n",
       "  /* fitted */\n",
       "  border: var(--sklearn-color-fitted-level-1) 1pt solid;\n",
       "  color: var(--sklearn-color-fitted-level-1);\n",
       "}\n",
       "\n",
       "/* On hover */\n",
       "div.sk-estimator:hover .sk-estimator-doc-link:hover,\n",
       ".sk-estimator-doc-link:hover,\n",
       "div.sk-label-container:hover .sk-estimator-doc-link:hover,\n",
       ".sk-estimator-doc-link:hover {\n",
       "  /* unfitted */\n",
       "  background-color: var(--sklearn-color-unfitted-level-3);\n",
       "  color: var(--sklearn-color-background);\n",
       "  text-decoration: none;\n",
       "}\n",
       "\n",
       "div.sk-estimator.fitted:hover .sk-estimator-doc-link.fitted:hover,\n",
       ".sk-estimator-doc-link.fitted:hover,\n",
       "div.sk-label-container:hover .sk-estimator-doc-link.fitted:hover,\n",
       ".sk-estimator-doc-link.fitted:hover {\n",
       "  /* fitted */\n",
       "  background-color: var(--sklearn-color-fitted-level-3);\n",
       "  color: var(--sklearn-color-background);\n",
       "  text-decoration: none;\n",
       "}\n",
       "\n",
       "/* Span, style for the box shown on hovering the info icon */\n",
       ".sk-estimator-doc-link span {\n",
       "  display: none;\n",
       "  z-index: 9999;\n",
       "  position: relative;\n",
       "  font-weight: normal;\n",
       "  right: .2ex;\n",
       "  padding: .5ex;\n",
       "  margin: .5ex;\n",
       "  width: min-content;\n",
       "  min-width: 20ex;\n",
       "  max-width: 50ex;\n",
       "  color: var(--sklearn-color-text);\n",
       "  box-shadow: 2pt 2pt 4pt #999;\n",
       "  /* unfitted */\n",
       "  background: var(--sklearn-color-unfitted-level-0);\n",
       "  border: .5pt solid var(--sklearn-color-unfitted-level-3);\n",
       "}\n",
       "\n",
       ".sk-estimator-doc-link.fitted span {\n",
       "  /* fitted */\n",
       "  background: var(--sklearn-color-fitted-level-0);\n",
       "  border: var(--sklearn-color-fitted-level-3);\n",
       "}\n",
       "\n",
       ".sk-estimator-doc-link:hover span {\n",
       "  display: block;\n",
       "}\n",
       "\n",
       "/* \"?\"-specific style due to the `<a>` HTML tag */\n",
       "\n",
       "#sk-container-id-2 a.estimator_doc_link {\n",
       "  float: right;\n",
       "  font-size: 1rem;\n",
       "  line-height: 1em;\n",
       "  font-family: monospace;\n",
       "  background-color: var(--sklearn-color-background);\n",
       "  border-radius: 1rem;\n",
       "  height: 1rem;\n",
       "  width: 1rem;\n",
       "  text-decoration: none;\n",
       "  /* unfitted */\n",
       "  color: var(--sklearn-color-unfitted-level-1);\n",
       "  border: var(--sklearn-color-unfitted-level-1) 1pt solid;\n",
       "}\n",
       "\n",
       "#sk-container-id-2 a.estimator_doc_link.fitted {\n",
       "  /* fitted */\n",
       "  border: var(--sklearn-color-fitted-level-1) 1pt solid;\n",
       "  color: var(--sklearn-color-fitted-level-1);\n",
       "}\n",
       "\n",
       "/* On hover */\n",
       "#sk-container-id-2 a.estimator_doc_link:hover {\n",
       "  /* unfitted */\n",
       "  background-color: var(--sklearn-color-unfitted-level-3);\n",
       "  color: var(--sklearn-color-background);\n",
       "  text-decoration: none;\n",
       "}\n",
       "\n",
       "#sk-container-id-2 a.estimator_doc_link.fitted:hover {\n",
       "  /* fitted */\n",
       "  background-color: var(--sklearn-color-fitted-level-3);\n",
       "}\n",
       "</style><div id=\"sk-container-id-2\" class=\"sk-top-container\"><div class=\"sk-text-repr-fallback\"><pre>GridSearchCV(cv=5, estimator=Ridge(),\n",
       "             param_grid={&#x27;alpha&#x27;: [0.1, 1, 10, 100, 1000]},\n",
       "             scoring=&#x27;neg_mean_absolute_error&#x27;)</pre><b>In a Jupyter environment, please rerun this cell to show the HTML representation or trust the notebook. <br />On GitHub, the HTML representation is unable to render, please try loading this page with nbviewer.org.</b></div><div class=\"sk-container\" hidden><div class=\"sk-item sk-dashed-wrapped\"><div class=\"sk-label-container\"><div class=\"sk-label fitted sk-toggleable\"><input class=\"sk-toggleable__control sk-hidden--visually\" id=\"sk-estimator-id-2\" type=\"checkbox\" ><label for=\"sk-estimator-id-2\" class=\"sk-toggleable__label fitted sk-toggleable__label-arrow fitted\">&nbsp;&nbsp;GridSearchCV<a class=\"sk-estimator-doc-link fitted\" rel=\"noreferrer\" target=\"_blank\" href=\"https://scikit-learn.org/1.5/modules/generated/sklearn.model_selection.GridSearchCV.html\">?<span>Documentation for GridSearchCV</span></a><span class=\"sk-estimator-doc-link fitted\">i<span>Fitted</span></span></label><div class=\"sk-toggleable__content fitted\"><pre>GridSearchCV(cv=5, estimator=Ridge(),\n",
       "             param_grid={&#x27;alpha&#x27;: [0.1, 1, 10, 100, 1000]},\n",
       "             scoring=&#x27;neg_mean_absolute_error&#x27;)</pre></div> </div></div><div class=\"sk-parallel\"><div class=\"sk-parallel-item\"><div class=\"sk-item\"><div class=\"sk-label-container\"><div class=\"sk-label fitted sk-toggleable\"><input class=\"sk-toggleable__control sk-hidden--visually\" id=\"sk-estimator-id-3\" type=\"checkbox\" ><label for=\"sk-estimator-id-3\" class=\"sk-toggleable__label fitted sk-toggleable__label-arrow fitted\">best_estimator_: Ridge</label><div class=\"sk-toggleable__content fitted\"><pre>Ridge(alpha=1)</pre></div> </div></div><div class=\"sk-serial\"><div class=\"sk-item\"><div class=\"sk-estimator fitted sk-toggleable\"><input class=\"sk-toggleable__control sk-hidden--visually\" id=\"sk-estimator-id-4\" type=\"checkbox\" ><label for=\"sk-estimator-id-4\" class=\"sk-toggleable__label fitted sk-toggleable__label-arrow fitted\">&nbsp;Ridge<a class=\"sk-estimator-doc-link fitted\" rel=\"noreferrer\" target=\"_blank\" href=\"https://scikit-learn.org/1.5/modules/generated/sklearn.linear_model.Ridge.html\">?<span>Documentation for Ridge</span></a></label><div class=\"sk-toggleable__content fitted\"><pre>Ridge(alpha=1)</pre></div> </div></div></div></div></div></div></div></div></div>"
      ],
      "text/plain": [
       "GridSearchCV(cv=5, estimator=Ridge(),\n",
       "             param_grid={'alpha': [0.1, 1, 10, 100, 1000]},\n",
       "             scoring='neg_mean_absolute_error')"
      ]
     },
     "execution_count": 78,
     "metadata": {},
     "output_type": "execute_result"
    }
   ],
   "source": [
    "param_grid={'alpha':[0.1,1,10,100,1000]}\n",
    "\n",
    "ridge=Ridge()\n",
    "ridge_cv=GridSearchCV(ridge,param_grid,cv=5,scoring='neg_mean_absolute_error')\n",
    "ridge_cv.fit(X_train,y_train)"
   ]
  },
  {
   "cell_type": "code",
   "execution_count": 79,
   "id": "8a2cc81f",
   "metadata": {
    "execution": {
     "iopub.execute_input": "2024-06-14T08:20:34.357689Z",
     "iopub.status.busy": "2024-06-14T08:20:34.357163Z",
     "iopub.status.idle": "2024-06-14T08:20:34.369559Z",
     "shell.execute_reply": "2024-06-14T08:20:34.368461Z"
    },
    "papermill": {
     "duration": 0.05726,
     "end_time": "2024-06-14T08:20:34.372690",
     "exception": false,
     "start_time": "2024-06-14T08:20:34.315430",
     "status": "completed"
    },
    "tags": []
   },
   "outputs": [
    {
     "name": "stdout",
     "output_type": "stream",
     "text": [
      "Ridge Regression MAE:23413.656821703666\n"
     ]
    }
   ],
   "source": [
    "y_pred_ridge=ridge_cv.predict(X_valid)\n",
    "mae_ridge=mae(y_valid,y_pred_ridge)\n",
    "print(f\"Ridge Regression MAE:{mae_ridge}\")"
   ]
  },
  {
   "cell_type": "markdown",
   "id": "a314a9c4",
   "metadata": {
    "papermill": {
     "duration": 0.023638,
     "end_time": "2024-06-14T08:20:34.425499",
     "exception": false,
     "start_time": "2024-06-14T08:20:34.401861",
     "status": "completed"
    },
    "tags": []
   },
   "source": [
    "#### 7.Ensemble Methods\n",
    "* Bagging\n",
    "* Boosting"
   ]
  },
  {
   "cell_type": "code",
   "execution_count": 80,
   "id": "de6ec942",
   "metadata": {
    "execution": {
     "iopub.execute_input": "2024-06-14T08:20:34.474803Z",
     "iopub.status.busy": "2024-06-14T08:20:34.474397Z",
     "iopub.status.idle": "2024-06-14T08:20:34.849146Z",
     "shell.execute_reply": "2024-06-14T08:20:34.847753Z"
    },
    "papermill": {
     "duration": 0.402145,
     "end_time": "2024-06-14T08:20:34.851473",
     "exception": false,
     "start_time": "2024-06-14T08:20:34.449328",
     "status": "completed"
    },
    "tags": []
   },
   "outputs": [
    {
     "name": "stdout",
     "output_type": "stream",
     "text": [
      "Gradient Boosting Regressor MAE:16494.697486177567\n",
      "Combined Model MAE:18109.865762645946\n"
     ]
    }
   ],
   "source": [
    "from sklearn.ensemble import GradientBoostingRegressor\n",
    "\n",
    "#Train a Gradient Boosting Regressor\n",
    "gbr=GradientBoostingRegressor()\n",
    "\n",
    "gbr.fit(X_train,y_train)\n",
    "y_pred_gbr=gbr.predict(X_valid)\n",
    "mae_gbr=mae(y_valid,y_pred_gbr)\n",
    "\n",
    "print(f\"Gradient Boosting Regressor MAE:{mae_gbr}\")\n",
    "\n",
    "# Combine Prediction \n",
    "y_pred_combined=(y_pred_ridge+y_pred_gbr)/2\n",
    "mae_combined=mae(y_valid,y_pred_combined)\n",
    "print(f\"Combined Model MAE:{mae_combined}\")"
   ]
  },
  {
   "cell_type": "code",
   "execution_count": 81,
   "id": "45eb47b0",
   "metadata": {
    "execution": {
     "iopub.execute_input": "2024-06-14T08:20:34.901094Z",
     "iopub.status.busy": "2024-06-14T08:20:34.900332Z",
     "iopub.status.idle": "2024-06-14T08:20:34.906470Z",
     "shell.execute_reply": "2024-06-14T08:20:34.905546Z"
    },
    "papermill": {
     "duration": 0.032924,
     "end_time": "2024-06-14T08:20:34.908447",
     "exception": false,
     "start_time": "2024-06-14T08:20:34.875523",
     "status": "completed"
    },
    "tags": []
   },
   "outputs": [
    {
     "data": {
      "text/plain": [
       "16494.697486177567"
      ]
     },
     "execution_count": 81,
     "metadata": {},
     "output_type": "execute_result"
    }
   ],
   "source": [
    "mae_gbr"
   ]
  },
  {
   "cell_type": "code",
   "execution_count": 82,
   "id": "8ee3b528",
   "metadata": {
    "execution": {
     "iopub.execute_input": "2024-06-14T08:20:34.957699Z",
     "iopub.status.busy": "2024-06-14T08:20:34.956919Z",
     "iopub.status.idle": "2024-06-14T08:20:34.963531Z",
     "shell.execute_reply": "2024-06-14T08:20:34.962519Z"
    },
    "papermill": {
     "duration": 0.034409,
     "end_time": "2024-06-14T08:20:34.966356",
     "exception": false,
     "start_time": "2024-06-14T08:20:34.931947",
     "status": "completed"
    },
    "tags": []
   },
   "outputs": [
    {
     "data": {
      "text/plain": [
       "23413.656821703666"
      ]
     },
     "execution_count": 82,
     "metadata": {},
     "output_type": "execute_result"
    }
   ],
   "source": [
    "mae_ridge"
   ]
  }
 ],
 "metadata": {
  "kaggle": {
   "accelerator": "none",
   "dataSources": [
    {
     "databundleVersionId": 868283,
     "sourceId": 5407,
     "sourceType": "competition"
    }
   ],
   "dockerImageVersionId": 30732,
   "isGpuEnabled": false,
   "isInternetEnabled": true,
   "language": "python",
   "sourceType": "notebook"
  },
  "kernelspec": {
   "display_name": "Python 3",
   "language": "python",
   "name": "python3"
  },
  "language_info": {
   "codemirror_mode": {
    "name": "ipython",
    "version": 3
   },
   "file_extension": ".py",
   "mimetype": "text/x-python",
   "name": "python",
   "nbconvert_exporter": "python",
   "pygments_lexer": "ipython3",
   "version": "3.10.14"
  },
  "papermill": {
   "default_parameters": {},
   "duration": 25.369171,
   "end_time": "2024-06-14T08:20:37.468298",
   "environment_variables": {},
   "exception": null,
   "input_path": "__notebook__.ipynb",
   "output_path": "__notebook__.ipynb",
   "parameters": {},
   "start_time": "2024-06-14T08:20:12.099127",
   "version": "2.5.0"
  }
 },
 "nbformat": 4,
 "nbformat_minor": 5
}
